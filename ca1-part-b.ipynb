{
 "cells": [
  {
   "cell_type": "code",
   "execution_count": 70,
   "metadata": {},
   "outputs": [],
   "source": [
    "import os\n",
    "os.chdir('C:\\\\Users\\\\davia\\\\Downloads\\\\AIMLCA1\\\\CA1\\\\Dataset')"
   ]
  },
  {
   "cell_type": "code",
   "execution_count": 71,
   "metadata": {},
   "outputs": [],
   "source": [
    "import pandas as pd\n",
    "df = pd.read_csv('CA1-Regression-Dataset.csv')"
   ]
  },
  {
   "cell_type": "code",
   "execution_count": 72,
   "metadata": {},
   "outputs": [],
   "source": [
    "# Import pandas that allows us to view and manipulate data\n",
    "import numpy as np\n",
    "import pandas as pd\n",
    "\n",
    "# Import datasets(s), and function that allows us to do train-test split\n",
    "from sklearn.model_selection import train_test_split\n",
    "\n",
    "# Import visualisation libraries\n",
    "import seaborn as sns\n",
    "import matplotlib.pyplot as plt\n",
    "\n",
    "# Import warnings and ignore if warnings are shown\n",
    "import warnings\n",
    "warnings.filterwarnings('ignore')"
   ]
  },
  {
   "cell_type": "markdown",
   "metadata": {},
   "source": [
    "### 1. Data pre-processing"
   ]
  },
  {
   "cell_type": "code",
   "execution_count": 73,
   "metadata": {},
   "outputs": [
    {
     "data": {
      "text/plain": [
       "ID            int64\n",
       "Age           int64\n",
       "Gender       object\n",
       "BMI         float64\n",
       "Smoker       object\n",
       "Region       object\n",
       "Cost ($)    float64\n",
       "dtype: object"
      ]
     },
     "execution_count": 73,
     "metadata": {},
     "output_type": "execute_result"
    }
   ],
   "source": [
    "# Finding out the types of data in each column\n",
    "df.dtypes"
   ]
  },
  {
   "cell_type": "code",
   "execution_count": 74,
   "metadata": {},
   "outputs": [
    {
     "data": {
      "text/html": [
       "<div>\n",
       "<style scoped>\n",
       "    .dataframe tbody tr th:only-of-type {\n",
       "        vertical-align: middle;\n",
       "    }\n",
       "\n",
       "    .dataframe tbody tr th {\n",
       "        vertical-align: top;\n",
       "    }\n",
       "\n",
       "    .dataframe thead th {\n",
       "        text-align: right;\n",
       "    }\n",
       "</style>\n",
       "<table border=\"1\" class=\"dataframe\">\n",
       "  <thead>\n",
       "    <tr style=\"text-align: right;\">\n",
       "      <th></th>\n",
       "      <th>ID</th>\n",
       "      <th>Age</th>\n",
       "      <th>Gender</th>\n",
       "      <th>BMI</th>\n",
       "      <th>Smoker</th>\n",
       "      <th>Region</th>\n",
       "      <th>Cost ($)</th>\n",
       "    </tr>\n",
       "  </thead>\n",
       "  <tbody>\n",
       "    <tr>\n",
       "      <th>0</th>\n",
       "      <td>1</td>\n",
       "      <td>19</td>\n",
       "      <td>female</td>\n",
       "      <td>27.900</td>\n",
       "      <td>yes</td>\n",
       "      <td>southwest</td>\n",
       "      <td>16884.92400</td>\n",
       "    </tr>\n",
       "    <tr>\n",
       "      <th>1</th>\n",
       "      <td>2</td>\n",
       "      <td>18</td>\n",
       "      <td>male</td>\n",
       "      <td>33.770</td>\n",
       "      <td>no</td>\n",
       "      <td>southeast</td>\n",
       "      <td>1725.55230</td>\n",
       "    </tr>\n",
       "    <tr>\n",
       "      <th>2</th>\n",
       "      <td>3</td>\n",
       "      <td>28</td>\n",
       "      <td>male</td>\n",
       "      <td>33.000</td>\n",
       "      <td>no</td>\n",
       "      <td>southeast</td>\n",
       "      <td>4449.46200</td>\n",
       "    </tr>\n",
       "    <tr>\n",
       "      <th>3</th>\n",
       "      <td>4</td>\n",
       "      <td>33</td>\n",
       "      <td>male</td>\n",
       "      <td>22.705</td>\n",
       "      <td>no</td>\n",
       "      <td>northwest</td>\n",
       "      <td>21984.47061</td>\n",
       "    </tr>\n",
       "    <tr>\n",
       "      <th>4</th>\n",
       "      <td>5</td>\n",
       "      <td>32</td>\n",
       "      <td>male</td>\n",
       "      <td>28.880</td>\n",
       "      <td>no</td>\n",
       "      <td>northwest</td>\n",
       "      <td>3866.85520</td>\n",
       "    </tr>\n",
       "    <tr>\n",
       "      <th>...</th>\n",
       "      <td>...</td>\n",
       "      <td>...</td>\n",
       "      <td>...</td>\n",
       "      <td>...</td>\n",
       "      <td>...</td>\n",
       "      <td>...</td>\n",
       "      <td>...</td>\n",
       "    </tr>\n",
       "    <tr>\n",
       "      <th>1333</th>\n",
       "      <td>1334</td>\n",
       "      <td>50</td>\n",
       "      <td>male</td>\n",
       "      <td>30.970</td>\n",
       "      <td>no</td>\n",
       "      <td>northwest</td>\n",
       "      <td>10600.54830</td>\n",
       "    </tr>\n",
       "    <tr>\n",
       "      <th>1334</th>\n",
       "      <td>1335</td>\n",
       "      <td>18</td>\n",
       "      <td>female</td>\n",
       "      <td>31.920</td>\n",
       "      <td>no</td>\n",
       "      <td>northeast</td>\n",
       "      <td>2205.98080</td>\n",
       "    </tr>\n",
       "    <tr>\n",
       "      <th>1335</th>\n",
       "      <td>1336</td>\n",
       "      <td>18</td>\n",
       "      <td>female</td>\n",
       "      <td>36.850</td>\n",
       "      <td>no</td>\n",
       "      <td>southeast</td>\n",
       "      <td>1629.83350</td>\n",
       "    </tr>\n",
       "    <tr>\n",
       "      <th>1336</th>\n",
       "      <td>1337</td>\n",
       "      <td>21</td>\n",
       "      <td>female</td>\n",
       "      <td>25.800</td>\n",
       "      <td>no</td>\n",
       "      <td>southwest</td>\n",
       "      <td>2007.94500</td>\n",
       "    </tr>\n",
       "    <tr>\n",
       "      <th>1337</th>\n",
       "      <td>1338</td>\n",
       "      <td>61</td>\n",
       "      <td>female</td>\n",
       "      <td>29.070</td>\n",
       "      <td>yes</td>\n",
       "      <td>northwest</td>\n",
       "      <td>29141.36030</td>\n",
       "    </tr>\n",
       "  </tbody>\n",
       "</table>\n",
       "<p>1338 rows × 7 columns</p>\n",
       "</div>"
      ],
      "text/plain": [
       "        ID  Age  Gender     BMI Smoker     Region     Cost ($)\n",
       "0        1   19  female  27.900    yes  southwest  16884.92400\n",
       "1        2   18    male  33.770     no  southeast   1725.55230\n",
       "2        3   28    male  33.000     no  southeast   4449.46200\n",
       "3        4   33    male  22.705     no  northwest  21984.47061\n",
       "4        5   32    male  28.880     no  northwest   3866.85520\n",
       "...    ...  ...     ...     ...    ...        ...          ...\n",
       "1333  1334   50    male  30.970     no  northwest  10600.54830\n",
       "1334  1335   18  female  31.920     no  northeast   2205.98080\n",
       "1335  1336   18  female  36.850     no  southeast   1629.83350\n",
       "1336  1337   21  female  25.800     no  southwest   2007.94500\n",
       "1337  1338   61  female  29.070    yes  northwest  29141.36030\n",
       "\n",
       "[1338 rows x 7 columns]"
      ]
     },
     "execution_count": 74,
     "metadata": {},
     "output_type": "execute_result"
    }
   ],
   "source": [
    "df"
   ]
  },
  {
   "cell_type": "markdown",
   "metadata": {},
   "source": [
    "#### 1.1 One Hot Encoding"
   ]
  },
  {
   "cell_type": "markdown",
   "metadata": {},
   "source": [
    "There are a few columns that need to be converted into dummy variables like Gender, Smoker, and Region"
   ]
  },
  {
   "cell_type": "code",
   "execution_count": 76,
   "metadata": {},
   "outputs": [
    {
     "data": {
      "text/html": [
       "<div>\n",
       "<style scoped>\n",
       "    .dataframe tbody tr th:only-of-type {\n",
       "        vertical-align: middle;\n",
       "    }\n",
       "\n",
       "    .dataframe tbody tr th {\n",
       "        vertical-align: top;\n",
       "    }\n",
       "\n",
       "    .dataframe thead th {\n",
       "        text-align: right;\n",
       "    }\n",
       "</style>\n",
       "<table border=\"1\" class=\"dataframe\">\n",
       "  <thead>\n",
       "    <tr style=\"text-align: right;\">\n",
       "      <th></th>\n",
       "      <th>ID</th>\n",
       "      <th>Age</th>\n",
       "      <th>BMI</th>\n",
       "      <th>Cost ($)</th>\n",
       "      <th>Gender_male</th>\n",
       "      <th>Smoker_yes</th>\n",
       "      <th>Region_northwest</th>\n",
       "      <th>Region_southeast</th>\n",
       "      <th>Region_southwest</th>\n",
       "    </tr>\n",
       "  </thead>\n",
       "  <tbody>\n",
       "    <tr>\n",
       "      <th>0</th>\n",
       "      <td>1</td>\n",
       "      <td>19</td>\n",
       "      <td>27.900</td>\n",
       "      <td>16884.92400</td>\n",
       "      <td>0</td>\n",
       "      <td>1</td>\n",
       "      <td>0</td>\n",
       "      <td>0</td>\n",
       "      <td>1</td>\n",
       "    </tr>\n",
       "    <tr>\n",
       "      <th>1</th>\n",
       "      <td>2</td>\n",
       "      <td>18</td>\n",
       "      <td>33.770</td>\n",
       "      <td>1725.55230</td>\n",
       "      <td>1</td>\n",
       "      <td>0</td>\n",
       "      <td>0</td>\n",
       "      <td>1</td>\n",
       "      <td>0</td>\n",
       "    </tr>\n",
       "    <tr>\n",
       "      <th>2</th>\n",
       "      <td>3</td>\n",
       "      <td>28</td>\n",
       "      <td>33.000</td>\n",
       "      <td>4449.46200</td>\n",
       "      <td>1</td>\n",
       "      <td>0</td>\n",
       "      <td>0</td>\n",
       "      <td>1</td>\n",
       "      <td>0</td>\n",
       "    </tr>\n",
       "    <tr>\n",
       "      <th>3</th>\n",
       "      <td>4</td>\n",
       "      <td>33</td>\n",
       "      <td>22.705</td>\n",
       "      <td>21984.47061</td>\n",
       "      <td>1</td>\n",
       "      <td>0</td>\n",
       "      <td>1</td>\n",
       "      <td>0</td>\n",
       "      <td>0</td>\n",
       "    </tr>\n",
       "    <tr>\n",
       "      <th>4</th>\n",
       "      <td>5</td>\n",
       "      <td>32</td>\n",
       "      <td>28.880</td>\n",
       "      <td>3866.85520</td>\n",
       "      <td>1</td>\n",
       "      <td>0</td>\n",
       "      <td>1</td>\n",
       "      <td>0</td>\n",
       "      <td>0</td>\n",
       "    </tr>\n",
       "  </tbody>\n",
       "</table>\n",
       "</div>"
      ],
      "text/plain": [
       "   ID  Age     BMI     Cost ($)  Gender_male  Smoker_yes  Region_northwest  \\\n",
       "0   1   19  27.900  16884.92400            0           1                 0   \n",
       "1   2   18  33.770   1725.55230            1           0                 0   \n",
       "2   3   28  33.000   4449.46200            1           0                 0   \n",
       "3   4   33  22.705  21984.47061            1           0                 1   \n",
       "4   5   32  28.880   3866.85520            1           0                 1   \n",
       "\n",
       "   Region_southeast  Region_southwest  \n",
       "0                 0                 1  \n",
       "1                 1                 0  \n",
       "2                 1                 0  \n",
       "3                 0                 0  \n",
       "4                 0                 0  "
      ]
     },
     "execution_count": 76,
     "metadata": {},
     "output_type": "execute_result"
    }
   ],
   "source": [
    "df_dummies = pd.get_dummies(df[['Gender', 'Smoker', 'Region']], drop_first=True, dtype='int')\n",
    "df = pd.concat([df,df_dummies], axis=1)\n",
    "df = df.drop(['Gender', 'Smoker', 'Region'], axis=1)\n",
    "df.head()"
   ]
  },
  {
   "cell_type": "code",
   "execution_count": 77,
   "metadata": {},
   "outputs": [
    {
     "data": {
      "text/plain": [
       "ID                    int64\n",
       "Age                   int64\n",
       "BMI                 float64\n",
       "Cost ($)            float64\n",
       "Gender_male           int32\n",
       "Smoker_yes            int32\n",
       "Region_northwest      int32\n",
       "Region_southeast      int32\n",
       "Region_southwest      int32\n",
       "dtype: object"
      ]
     },
     "execution_count": 77,
     "metadata": {},
     "output_type": "execute_result"
    }
   ],
   "source": [
    "# Finding out the types of data in each column\n",
    "df.dtypes"
   ]
  },
  {
   "cell_type": "markdown",
   "metadata": {},
   "source": [
    "#### 1.2 Check For Outliers"
   ]
  },
  {
   "cell_type": "code",
   "execution_count": 78,
   "metadata": {},
   "outputs": [
    {
     "data": {
      "image/png": "[encoded data removed]",
      "text/plain": [
       "<Figure size 640x480 with 1 Axes>"
      ]
     },
     "metadata": {},
     "output_type": "display_data"
    }
   ],
   "source": [
    "sns.boxplot(x=df['BMI'])\n",
    "plt.title(\"BMI Column Before Outlier Removal\")\n",
    "plt.show()"
   ]
  },
  {
   "cell_type": "code",
   "execution_count": 79,
   "metadata": {},
   "outputs": [
    {
     "data": {
      "image/png": "[encoded data removed]",
      "text/plain": [
       "<Figure size 640x480 with 1 Axes>"
      ]
     },
     "metadata": {},
     "output_type": "display_data"
    }
   ],
   "source": [
    "sns.boxplot(x=df['Cost ($)'])\n",
    "plt.title(\"Cost Column\")\n",
    "plt.show()"
   ]
  },
  {
   "cell_type": "markdown",
   "metadata": {},
   "source": [
    "As I cannot be 100% certain that the outliers are unreasonable, I have decided agaisnt removing the outliers"
   ]
  },
  {
   "cell_type": "markdown",
   "metadata": {},
   "source": [
    "#### 1.3 Data Imputation"
   ]
  },
  {
   "cell_type": "code",
   "execution_count": 80,
   "metadata": {},
   "outputs": [
    {
     "data": {
      "text/plain": [
       "<Axes: >"
      ]
     },
     "execution_count": 80,
     "metadata": {},
     "output_type": "execute_result"
    },
    {
     "data": {
      "image/png": "[encoded data removed]",
      "text/plain": [
       "<Figure size 640x480 with 1 Axes>"
      ]
     },
     "metadata": {},
     "output_type": "display_data"
    }
   ],
   "source": [
    "# Print out a heatmap to show how much missing data there is in the dataset\n",
    "sns.heatmap(df.isnull(), cbar=False)"
   ]
  },
  {
   "cell_type": "code",
   "execution_count": 81,
   "metadata": {},
   "outputs": [
    {
     "data": {
      "text/plain": [
       "ID                  0\n",
       "Age                 0\n",
       "BMI                 0\n",
       "Cost ($)            0\n",
       "Gender_male         0\n",
       "Smoker_yes          0\n",
       "Region_northwest    0\n",
       "Region_southeast    0\n",
       "Region_southwest    0\n",
       "dtype: int64"
      ]
     },
     "execution_count": 81,
     "metadata": {},
     "output_type": "execute_result"
    }
   ],
   "source": [
    "df.isnull().sum()"
   ]
  },
  {
   "cell_type": "markdown",
   "metadata": {},
   "source": [
    "As there are no missing data, we will not need to impute anything"
   ]
  },
  {
   "cell_type": "markdown",
   "metadata": {},
   "source": [
    "### 1.4 Train Test Split"
   ]
  },
  {
   "cell_type": "markdown",
   "metadata": {},
   "source": [
    "I will be using 2 approaches to this. The first approach will be to use lasso to tell us which features are important while the second approach is me choosing which features are important. \n",
    "\n",
    "I will then train the models on both sets of data and cross validate them and choose the best set of data"
   ]
  },
  {
   "cell_type": "code",
   "execution_count": 82,
   "metadata": {},
   "outputs": [],
   "source": [
    "X = df.drop(['Cost ($)', 'ID'], axis=1)\n",
    "y = df['Cost ($)']"
   ]
  },
  {
   "cell_type": "markdown",
   "metadata": {},
   "source": [
    "ID is being dropped as I am 100% confident that it is unrelated to cost"
   ]
  },
  {
   "cell_type": "code",
   "execution_count": 83,
   "metadata": {},
   "outputs": [],
   "source": [
    "X_train, X_test, y_train, y_test = train_test_split(X, y, test_size=0.2, random_state=42)"
   ]
  },
  {
   "cell_type": "markdown",
   "metadata": {},
   "source": [
    "#### 1.4.1 Data Scaling"
   ]
  },
  {
   "cell_type": "code",
   "execution_count": 84,
   "metadata": {},
   "outputs": [],
   "source": [
    "# Import Standard Scaler to scale data\n",
    "from sklearn.preprocessing import StandardScaler"
   ]
  },
  {
   "cell_type": "code",
   "execution_count": 85,
   "metadata": {},
   "outputs": [
    {
     "data": {
      "text/html": [
       "<div>\n",
       "<style scoped>\n",
       "    .dataframe tbody tr th:only-of-type {\n",
       "        vertical-align: middle;\n",
       "    }\n",
       "\n",
       "    .dataframe tbody tr th {\n",
       "        vertical-align: top;\n",
       "    }\n",
       "\n",
       "    .dataframe thead th {\n",
       "        text-align: right;\n",
       "    }\n",
       "</style>\n",
       "<table border=\"1\" class=\"dataframe\">\n",
       "  <thead>\n",
       "    <tr style=\"text-align: right;\">\n",
       "      <th></th>\n",
       "      <th>Age</th>\n",
       "      <th>BMI</th>\n",
       "    </tr>\n",
       "  </thead>\n",
       "  <tbody>\n",
       "    <tr>\n",
       "      <th>count</th>\n",
       "      <td>1070.000000</td>\n",
       "      <td>1070.000000</td>\n",
       "    </tr>\n",
       "    <tr>\n",
       "      <th>mean</th>\n",
       "      <td>39.357009</td>\n",
       "      <td>30.560397</td>\n",
       "    </tr>\n",
       "    <tr>\n",
       "      <th>std</th>\n",
       "      <td>14.073960</td>\n",
       "      <td>6.043386</td>\n",
       "    </tr>\n",
       "    <tr>\n",
       "      <th>min</th>\n",
       "      <td>18.000000</td>\n",
       "      <td>15.960000</td>\n",
       "    </tr>\n",
       "    <tr>\n",
       "      <th>25%</th>\n",
       "      <td>27.000000</td>\n",
       "      <td>26.205000</td>\n",
       "    </tr>\n",
       "    <tr>\n",
       "      <th>50%</th>\n",
       "      <td>39.500000</td>\n",
       "      <td>30.210000</td>\n",
       "    </tr>\n",
       "    <tr>\n",
       "      <th>75%</th>\n",
       "      <td>51.000000</td>\n",
       "      <td>34.496250</td>\n",
       "    </tr>\n",
       "    <tr>\n",
       "      <th>max</th>\n",
       "      <td>64.000000</td>\n",
       "      <td>53.130000</td>\n",
       "    </tr>\n",
       "  </tbody>\n",
       "</table>\n",
       "</div>"
      ],
      "text/plain": [
       "               Age          BMI\n",
       "count  1070.000000  1070.000000\n",
       "mean     39.357009    30.560397\n",
       "std      14.073960     6.043386\n",
       "min      18.000000    15.960000\n",
       "25%      27.000000    26.205000\n",
       "50%      39.500000    30.210000\n",
       "75%      51.000000    34.496250\n",
       "max      64.000000    53.130000"
      ]
     },
     "execution_count": 85,
     "metadata": {},
     "output_type": "execute_result"
    }
   ],
   "source": [
    "X_train[['Age', 'BMI']].describe()"
   ]
  },
  {
   "cell_type": "code",
   "execution_count": 86,
   "metadata": {},
   "outputs": [
    {
     "data": {
      "text/html": [
       "<div>\n",
       "<style scoped>\n",
       "    .dataframe tbody tr th:only-of-type {\n",
       "        vertical-align: middle;\n",
       "    }\n",
       "\n",
       "    .dataframe tbody tr th {\n",
       "        vertical-align: top;\n",
       "    }\n",
       "\n",
       "    .dataframe thead th {\n",
       "        text-align: right;\n",
       "    }\n",
       "</style>\n",
       "<table border=\"1\" class=\"dataframe\">\n",
       "  <thead>\n",
       "    <tr style=\"text-align: right;\">\n",
       "      <th></th>\n",
       "      <th>Age</th>\n",
       "      <th>BMI</th>\n",
       "      <th>Gender_male</th>\n",
       "      <th>Smoker_yes</th>\n",
       "      <th>Region_northwest</th>\n",
       "      <th>Region_southeast</th>\n",
       "      <th>Region_southwest</th>\n",
       "    </tr>\n",
       "  </thead>\n",
       "  <tbody>\n",
       "    <tr>\n",
       "      <th>764</th>\n",
       "      <td>45</td>\n",
       "      <td>25.175</td>\n",
       "      <td>0</td>\n",
       "      <td>0</td>\n",
       "      <td>0</td>\n",
       "      <td>0</td>\n",
       "      <td>0</td>\n",
       "    </tr>\n",
       "    <tr>\n",
       "      <th>887</th>\n",
       "      <td>36</td>\n",
       "      <td>30.020</td>\n",
       "      <td>0</td>\n",
       "      <td>0</td>\n",
       "      <td>1</td>\n",
       "      <td>0</td>\n",
       "      <td>0</td>\n",
       "    </tr>\n",
       "    <tr>\n",
       "      <th>890</th>\n",
       "      <td>64</td>\n",
       "      <td>26.885</td>\n",
       "      <td>0</td>\n",
       "      <td>1</td>\n",
       "      <td>1</td>\n",
       "      <td>0</td>\n",
       "      <td>0</td>\n",
       "    </tr>\n",
       "    <tr>\n",
       "      <th>1293</th>\n",
       "      <td>46</td>\n",
       "      <td>25.745</td>\n",
       "      <td>1</td>\n",
       "      <td>0</td>\n",
       "      <td>1</td>\n",
       "      <td>0</td>\n",
       "      <td>0</td>\n",
       "    </tr>\n",
       "    <tr>\n",
       "      <th>259</th>\n",
       "      <td>19</td>\n",
       "      <td>31.920</td>\n",
       "      <td>1</td>\n",
       "      <td>1</td>\n",
       "      <td>1</td>\n",
       "      <td>0</td>\n",
       "      <td>0</td>\n",
       "    </tr>\n",
       "  </tbody>\n",
       "</table>\n",
       "</div>"
      ],
      "text/plain": [
       "      Age     BMI  Gender_male  Smoker_yes  Region_northwest  \\\n",
       "764    45  25.175            0           0                 0   \n",
       "887    36  30.020            0           0                 1   \n",
       "890    64  26.885            0           1                 1   \n",
       "1293   46  25.745            1           0                 1   \n",
       "259    19  31.920            1           1                 1   \n",
       "\n",
       "      Region_southeast  Region_southwest  \n",
       "764                  0                 0  \n",
       "887                  0                 0  \n",
       "890                  0                 0  \n",
       "1293                 0                 0  \n",
       "259                  0                 0  "
      ]
     },
     "execution_count": 86,
     "metadata": {},
     "output_type": "execute_result"
    }
   ],
   "source": [
    "X_test.head()"
   ]
  },
  {
   "cell_type": "code",
   "execution_count": 87,
   "metadata": {},
   "outputs": [
    {
     "data": {
      "text/html": [
       "<div>\n",
       "<style scoped>\n",
       "    .dataframe tbody tr th:only-of-type {\n",
       "        vertical-align: middle;\n",
       "    }\n",
       "\n",
       "    .dataframe tbody tr th {\n",
       "        vertical-align: top;\n",
       "    }\n",
       "\n",
       "    .dataframe thead th {\n",
       "        text-align: right;\n",
       "    }\n",
       "</style>\n",
       "<table border=\"1\" class=\"dataframe\">\n",
       "  <thead>\n",
       "    <tr style=\"text-align: right;\">\n",
       "      <th></th>\n",
       "      <th>Age</th>\n",
       "      <th>BMI</th>\n",
       "      <th>Gender_male</th>\n",
       "      <th>Smoker_yes</th>\n",
       "      <th>Region_northwest</th>\n",
       "      <th>Region_southeast</th>\n",
       "      <th>Region_southwest</th>\n",
       "    </tr>\n",
       "  </thead>\n",
       "  <tbody>\n",
       "    <tr>\n",
       "      <th>764</th>\n",
       "      <td>0.401140</td>\n",
       "      <td>-0.891539</td>\n",
       "      <td>0</td>\n",
       "      <td>0</td>\n",
       "      <td>0</td>\n",
       "      <td>0</td>\n",
       "      <td>0</td>\n",
       "    </tr>\n",
       "    <tr>\n",
       "      <th>887</th>\n",
       "      <td>-0.238638</td>\n",
       "      <td>-0.089461</td>\n",
       "      <td>0</td>\n",
       "      <td>0</td>\n",
       "      <td>1</td>\n",
       "      <td>0</td>\n",
       "      <td>0</td>\n",
       "    </tr>\n",
       "    <tr>\n",
       "      <th>890</th>\n",
       "      <td>1.751782</td>\n",
       "      <td>-0.608453</td>\n",
       "      <td>0</td>\n",
       "      <td>1</td>\n",
       "      <td>1</td>\n",
       "      <td>0</td>\n",
       "      <td>0</td>\n",
       "    </tr>\n",
       "    <tr>\n",
       "      <th>1293</th>\n",
       "      <td>0.472227</td>\n",
       "      <td>-0.797177</td>\n",
       "      <td>1</td>\n",
       "      <td>0</td>\n",
       "      <td>1</td>\n",
       "      <td>0</td>\n",
       "      <td>0</td>\n",
       "    </tr>\n",
       "    <tr>\n",
       "      <th>259</th>\n",
       "      <td>-1.447107</td>\n",
       "      <td>0.225079</td>\n",
       "      <td>1</td>\n",
       "      <td>1</td>\n",
       "      <td>1</td>\n",
       "      <td>0</td>\n",
       "      <td>0</td>\n",
       "    </tr>\n",
       "  </tbody>\n",
       "</table>\n",
       "</div>"
      ],
      "text/plain": [
       "           Age       BMI  Gender_male  Smoker_yes  Region_northwest  \\\n",
       "764   0.401140 -0.891539            0           0                 0   \n",
       "887  -0.238638 -0.089461            0           0                 1   \n",
       "890   1.751782 -0.608453            0           1                 1   \n",
       "1293  0.472227 -0.797177            1           0                 1   \n",
       "259  -1.447107  0.225079            1           1                 1   \n",
       "\n",
       "      Region_southeast  Region_southwest  \n",
       "764                  0                 0  \n",
       "887                  0                 0  \n",
       "890                  0                 0  \n",
       "1293                 0                 0  \n",
       "259                  0                 0  "
      ]
     },
     "execution_count": 87,
     "metadata": {},
     "output_type": "execute_result"
    }
   ],
   "source": [
    "scaler = StandardScaler()\n",
    "\n",
    "X_train[['Age', 'BMI']] = scaler.fit_transform(X_train[['Age', 'BMI']])\n",
    "X_test[['Age', 'BMI']] = scaler.transform(X_test[['Age', 'BMI']])\n",
    "\n",
    "X_test.head()"
   ]
  },
  {
   "cell_type": "markdown",
   "metadata": {},
   "source": [
    "#### 1.4.1 Choosing Features Using Lasso"
   ]
  },
  {
   "cell_type": "code",
   "execution_count": 88,
   "metadata": {},
   "outputs": [],
   "source": [
    "from sklearn.linear_model import LassoCV\n",
    "from sklearn.metrics import r2_score, mean_squared_error, mean_absolute_error"
   ]
  },
  {
   "cell_type": "code",
   "execution_count": 89,
   "metadata": {},
   "outputs": [],
   "source": [
    "# Define a range of alpha values to test (can range from 0 to infinity, but problem if 0 is used)\n",
    "alphas = np.arange(1,110, 0.1)"
   ]
  },
  {
   "cell_type": "code",
   "execution_count": 90,
   "metadata": {},
   "outputs": [
    {
     "name": "stdout",
     "output_type": "stream",
     "text": [
      "Lasso CV - Best Alpha: 77.70000000000007, MSE: 34658812.107251115, R2: 0.7767530093533315\n",
      "Intercept: 8592.216217166102\n",
      "Coefficients: [ 3569.92680376  1903.18254947     0.         23186.88868089\n",
      "     0.            -0.           -54.81380399]\n"
     ]
    }
   ],
   "source": [
    "lasso_cv = LassoCV(alphas=alphas, cv=5, random_state=42)\n",
    "lasso_cv.fit(X_train, y_train)\n",
    "y_pred_lasso = lasso_cv.predict(X_test)\n",
    "mse_lasso = mean_squared_error(y_test,  y_pred_lasso)\n",
    "r2_lasso = r2_score(y_test, y_pred_lasso)\n",
    "\n",
    "print(f\"Lasso CV - Best Alpha: {lasso_cv.alpha_}, MSE: {mse_lasso}, R2: {r2_lasso}\")\n",
    "print(f\"Intercept: {lasso_cv.intercept_}\")\n",
    "print(f\"Coefficients: {lasso_cv.coef_}\")"
   ]
  },
  {
   "cell_type": "code",
   "execution_count": 91,
   "metadata": {},
   "outputs": [
    {
     "data": {
      "text/plain": [
       "Index(['Age', 'BMI', 'Gender_male', 'Smoker_yes', 'Region_northwest',\n",
       "       'Region_southeast', 'Region_southwest'],\n",
       "      dtype='object')"
      ]
     },
     "execution_count": 91,
     "metadata": {},
     "output_type": "execute_result"
    }
   ],
   "source": [
    "X_train.columns"
   ]
  },
  {
   "cell_type": "code",
   "execution_count": 92,
   "metadata": {},
   "outputs": [],
   "source": [
    "X_train_lasso = X_train.copy()[['Age', 'BMI', 'Smoker_yes']]\n",
    "X_test_lasso = X_test.copy()[['Age', 'BMI', 'Smoker_yes']]"
   ]
  },
  {
   "cell_type": "markdown",
   "metadata": {},
   "source": [
    "The Lasso Regressor has chosen Age, BMI and whether a person smokes to be the best indicators of Cost"
   ]
  },
  {
   "cell_type": "markdown",
   "metadata": {},
   "source": [
    "#### 1.4.2 Choosing Features Based On What I Think Is Important"
   ]
  },
  {
   "cell_type": "markdown",
   "metadata": {},
   "source": [
    "As for me, I think that all columns are needed"
   ]
  },
  {
   "cell_type": "markdown",
   "metadata": {},
   "source": [
    "### 2. Tuning The Models Hyperparameters"
   ]
  },
  {
   "cell_type": "code",
   "execution_count": 93,
   "metadata": {},
   "outputs": [],
   "source": [
    "# Importing cross_val_score for k-fold validation\n",
    "from sklearn.model_selection import cross_val_score, KFold\n",
    "\n",
    "# Importing GridSerachCV and RandomizedSearchCV\n",
    "from sklearn.model_selection import GridSearchCV, RandomizedSearchCV"
   ]
  },
  {
   "cell_type": "markdown",
   "metadata": {},
   "source": [
    "#### 2.1 Lasso Regression"
   ]
  },
  {
   "cell_type": "code",
   "execution_count": 94,
   "metadata": {},
   "outputs": [],
   "source": [
    "# Define a range of alpha values to test (can range from 0 to infinity, but problem if 0 is used)\n",
    "alphas = np.arange(1,110, 0.1)"
   ]
  },
  {
   "cell_type": "markdown",
   "metadata": {},
   "source": [
    "#### 2.1.1 Lasso Regression With Lasso Features"
   ]
  },
  {
   "cell_type": "code",
   "execution_count": 95,
   "metadata": {},
   "outputs": [
    {
     "data": {
      "text/html": [
       "<style>#sk-container-id-3 {color: black;}#sk-container-id-3 pre{padding: 0;}#sk-container-id-3 div.sk-toggleable {background-color: white;}#sk-container-id-3 label.sk-toggleable__label {cursor: pointer;display: block;width: 100%;margin-bottom: 0;padding: 0.3em;box-sizing: border-box;text-align: center;}#sk-container-id-3 label.sk-toggleable__label-arrow:before {content: \"▸\";float: left;margin-right: 0.25em;color: #696969;}#sk-container-id-3 label.sk-toggleable__label-arrow:hover:before {color: black;}#sk-container-id-3 div.sk-estimator:hover label.sk-toggleable__label-arrow:before {color: black;}#sk-container-id-3 div.sk-toggleable__content {max-height: 0;max-width: 0;overflow: hidden;text-align: left;background-color: #f0f8ff;}#sk-container-id-3 div.sk-toggleable__content pre {margin: 0.2em;color: black;border-radius: 0.25em;background-color: #f0f8ff;}#sk-container-id-3 input.sk-toggleable__control:checked~div.sk-toggleable__content {max-height: 200px;max-width: 100%;overflow: auto;}#sk-container-id-3 input.sk-toggleable__control:checked~label.sk-toggleable__label-arrow:before {content: \"▾\";}#sk-container-id-3 div.sk-estimator input.sk-toggleable__control:checked~label.sk-toggleable__label {background-color: #d4ebff;}#sk-container-id-3 div.sk-label input.sk-toggleable__control:checked~label.sk-toggleable__label {background-color: #d4ebff;}#sk-container-id-3 input.sk-hidden--visually {border: 0;clip: rect(1px 1px 1px 1px);clip: rect(1px, 1px, 1px, 1px);height: 1px;margin: -1px;overflow: hidden;padding: 0;position: absolute;width: 1px;}#sk-container-id-3 div.sk-estimator {font-family: monospace;background-color: #f0f8ff;border: 1px dotted black;border-radius: 0.25em;box-sizing: border-box;margin-bottom: 0.5em;}#sk-container-id-3 div.sk-estimator:hover {background-color: #d4ebff;}#sk-container-id-3 div.sk-parallel-item::after {content: \"\";width: 100%;border-bottom: 1px solid gray;flex-grow: 1;}#sk-container-id-3 div.sk-label:hover label.sk-toggleable__label {background-color: #d4ebff;}#sk-container-id-3 div.sk-serial::before {content: \"\";position: absolute;border-left: 1px solid gray;box-sizing: border-box;top: 0;bottom: 0;left: 50%;z-index: 0;}#sk-container-id-3 div.sk-serial {display: flex;flex-direction: column;align-items: center;background-color: white;padding-right: 0.2em;padding-left: 0.2em;position: relative;}#sk-container-id-3 div.sk-item {position: relative;z-index: 1;}#sk-container-id-3 div.sk-parallel {display: flex;align-items: stretch;justify-content: center;background-color: white;position: relative;}#sk-container-id-3 div.sk-item::before, #sk-container-id-3 div.sk-parallel-item::before {content: \"\";position: absolute;border-left: 1px solid gray;box-sizing: border-box;top: 0;bottom: 0;left: 50%;z-index: -1;}#sk-container-id-3 div.sk-parallel-item {display: flex;flex-direction: column;z-index: 1;position: relative;background-color: white;}#sk-container-id-3 div.sk-parallel-item:first-child::after {align-self: flex-end;width: 50%;}#sk-container-id-3 div.sk-parallel-item:last-child::after {align-self: flex-start;width: 50%;}#sk-container-id-3 div.sk-parallel-item:only-child::after {width: 0;}#sk-container-id-3 div.sk-dashed-wrapped {border: 1px dashed gray;margin: 0 0.4em 0.5em 0.4em;box-sizing: border-box;padding-bottom: 0.4em;background-color: white;}#sk-container-id-3 div.sk-label label {font-family: monospace;font-weight: bold;display: inline-block;line-height: 1.2em;}#sk-container-id-3 div.sk-label-container {text-align: center;}#sk-container-id-3 div.sk-container {/* jupyter's `normalize.less` sets `[hidden] { display: none; }` but bootstrap.min.css set `[hidden] { display: none !important; }` so we also need the `!important` here to be able to override the default hidden behavior on the sphinx rendered scikit-learn.org. See: https://github.com/scikit-learn/scikit-learn/issues/21755 */display: inline-block !important;position: relative;}#sk-container-id-3 div.sk-text-repr-fallback {display: none;}</style><div id=\"sk-container-id-3\" class=\"sk-top-container\"><div class=\"sk-text-repr-fallback\"><pre>LassoCV(alphas=array([  1. ,   1.1,   1.2, ..., 109.7, 109.8, 109.9]), cv=5)</pre><b>In a Jupyter environment, please rerun this cell to show the HTML representation or trust the notebook. <br />On GitHub, the HTML representation is unable to render, please try loading this page with nbviewer.org.</b></div><div class=\"sk-container\" hidden><div class=\"sk-item\"><div class=\"sk-estimator sk-toggleable\"><input class=\"sk-toggleable__control sk-hidden--visually\" id=\"sk-estimator-id-3\" type=\"checkbox\" checked><label for=\"sk-estimator-id-3\" class=\"sk-toggleable__label sk-toggleable__label-arrow\">LassoCV</label><div class=\"sk-toggleable__content\"><pre>LassoCV(alphas=array([  1. ,   1.1,   1.2, ..., 109.7, 109.8, 109.9]), cv=5)</pre></div></div></div></div></div>"
      ],
      "text/plain": [
       "LassoCV(alphas=array([  1. ,   1.1,   1.2, ..., 109.7, 109.8, 109.9]), cv=5)"
      ]
     },
     "execution_count": 95,
     "metadata": {},
     "output_type": "execute_result"
    }
   ],
   "source": [
    "lasso_model_lasso = LassoCV(alphas=alphas, cv=5)\n",
    "lasso_model_lasso.fit(X_train_lasso, y_train)"
   ]
  },
  {
   "cell_type": "markdown",
   "metadata": {},
   "source": [
    "#### 2.1.2 Lasso Regression With My Features"
   ]
  },
  {
   "cell_type": "code",
   "execution_count": 96,
   "metadata": {},
   "outputs": [
    {
     "data": {
      "text/html": [
       "<style>#sk-container-id-4 {color: black;}#sk-container-id-4 pre{padding: 0;}#sk-container-id-4 div.sk-toggleable {background-color: white;}#sk-container-id-4 label.sk-toggleable__label {cursor: pointer;display: block;width: 100%;margin-bottom: 0;padding: 0.3em;box-sizing: border-box;text-align: center;}#sk-container-id-4 label.sk-toggleable__label-arrow:before {content: \"▸\";float: left;margin-right: 0.25em;color: #696969;}#sk-container-id-4 label.sk-toggleable__label-arrow:hover:before {color: black;}#sk-container-id-4 div.sk-estimator:hover label.sk-toggleable__label-arrow:before {color: black;}#sk-container-id-4 div.sk-toggleable__content {max-height: 0;max-width: 0;overflow: hidden;text-align: left;background-color: #f0f8ff;}#sk-container-id-4 div.sk-toggleable__content pre {margin: 0.2em;color: black;border-radius: 0.25em;background-color: #f0f8ff;}#sk-container-id-4 input.sk-toggleable__control:checked~div.sk-toggleable__content {max-height: 200px;max-width: 100%;overflow: auto;}#sk-container-id-4 input.sk-toggleable__control:checked~label.sk-toggleable__label-arrow:before {content: \"▾\";}#sk-container-id-4 div.sk-estimator input.sk-toggleable__control:checked~label.sk-toggleable__label {background-color: #d4ebff;}#sk-container-id-4 div.sk-label input.sk-toggleable__control:checked~label.sk-toggleable__label {background-color: #d4ebff;}#sk-container-id-4 input.sk-hidden--visually {border: 0;clip: rect(1px 1px 1px 1px);clip: rect(1px, 1px, 1px, 1px);height: 1px;margin: -1px;overflow: hidden;padding: 0;position: absolute;width: 1px;}#sk-container-id-4 div.sk-estimator {font-family: monospace;background-color: #f0f8ff;border: 1px dotted black;border-radius: 0.25em;box-sizing: border-box;margin-bottom: 0.5em;}#sk-container-id-4 div.sk-estimator:hover {background-color: #d4ebff;}#sk-container-id-4 div.sk-parallel-item::after {content: \"\";width: 100%;border-bottom: 1px solid gray;flex-grow: 1;}#sk-container-id-4 div.sk-label:hover label.sk-toggleable__label {background-color: #d4ebff;}#sk-container-id-4 div.sk-serial::before {content: \"\";position: absolute;border-left: 1px solid gray;box-sizing: border-box;top: 0;bottom: 0;left: 50%;z-index: 0;}#sk-container-id-4 div.sk-serial {display: flex;flex-direction: column;align-items: center;background-color: white;padding-right: 0.2em;padding-left: 0.2em;position: relative;}#sk-container-id-4 div.sk-item {position: relative;z-index: 1;}#sk-container-id-4 div.sk-parallel {display: flex;align-items: stretch;justify-content: center;background-color: white;position: relative;}#sk-container-id-4 div.sk-item::before, #sk-container-id-4 div.sk-parallel-item::before {content: \"\";position: absolute;border-left: 1px solid gray;box-sizing: border-box;top: 0;bottom: 0;left: 50%;z-index: -1;}#sk-container-id-4 div.sk-parallel-item {display: flex;flex-direction: column;z-index: 1;position: relative;background-color: white;}#sk-container-id-4 div.sk-parallel-item:first-child::after {align-self: flex-end;width: 50%;}#sk-container-id-4 div.sk-parallel-item:last-child::after {align-self: flex-start;width: 50%;}#sk-container-id-4 div.sk-parallel-item:only-child::after {width: 0;}#sk-container-id-4 div.sk-dashed-wrapped {border: 1px dashed gray;margin: 0 0.4em 0.5em 0.4em;box-sizing: border-box;padding-bottom: 0.4em;background-color: white;}#sk-container-id-4 div.sk-label label {font-family: monospace;font-weight: bold;display: inline-block;line-height: 1.2em;}#sk-container-id-4 div.sk-label-container {text-align: center;}#sk-container-id-4 div.sk-container {/* jupyter's `normalize.less` sets `[hidden] { display: none; }` but bootstrap.min.css set `[hidden] { display: none !important; }` so we also need the `!important` here to be able to override the default hidden behavior on the sphinx rendered scikit-learn.org. See: https://github.com/scikit-learn/scikit-learn/issues/21755 */display: inline-block !important;position: relative;}#sk-container-id-4 div.sk-text-repr-fallback {display: none;}</style><div id=\"sk-container-id-4\" class=\"sk-top-container\"><div class=\"sk-text-repr-fallback\"><pre>LassoCV(alphas=array([  1. ,   1.1,   1.2, ..., 109.7, 109.8, 109.9]), cv=5)</pre><b>In a Jupyter environment, please rerun this cell to show the HTML representation or trust the notebook. <br />On GitHub, the HTML representation is unable to render, please try loading this page with nbviewer.org.</b></div><div class=\"sk-container\" hidden><div class=\"sk-item\"><div class=\"sk-estimator sk-toggleable\"><input class=\"sk-toggleable__control sk-hidden--visually\" id=\"sk-estimator-id-4\" type=\"checkbox\" checked><label for=\"sk-estimator-id-4\" class=\"sk-toggleable__label sk-toggleable__label-arrow\">LassoCV</label><div class=\"sk-toggleable__content\"><pre>LassoCV(alphas=array([  1. ,   1.1,   1.2, ..., 109.7, 109.8, 109.9]), cv=5)</pre></div></div></div></div></div>"
      ],
      "text/plain": [
       "LassoCV(alphas=array([  1. ,   1.1,   1.2, ..., 109.7, 109.8, 109.9]), cv=5)"
      ]
     },
     "execution_count": 96,
     "metadata": {},
     "output_type": "execute_result"
    }
   ],
   "source": [
    "lasso_model = LassoCV(alphas=alphas, cv=5)\n",
    "lasso_model.fit(X_train, y_train)"
   ]
  },
  {
   "cell_type": "markdown",
   "metadata": {},
   "source": [
    "#### 2.2 Ridge Regression"
   ]
  },
  {
   "cell_type": "code",
   "execution_count": 97,
   "metadata": {},
   "outputs": [],
   "source": [
    "from sklearn.linear_model import RidgeCV\n",
    "\n",
    "# Define a range of alpha values to test (can range from 0 to infinity, but problem if 0 is used)\n",
    "alphas = np.arange(1,110, 0.1)"
   ]
  },
  {
   "cell_type": "markdown",
   "metadata": {},
   "source": [
    "#### 2.2.1 Ridge Regression With Lasso Features"
   ]
  },
  {
   "cell_type": "code",
   "execution_count": 98,
   "metadata": {},
   "outputs": [],
   "source": [
    "ridge_model_lasso = RidgeCV(alphas=alphas, cv=5, scoring='r2')\n",
    "ridge_model_lasso.fit(X_train_lasso, y_train)\n",
    "ridge_y_pred_lasso = ridge_model_lasso.predict(X_test_lasso)"
   ]
  },
  {
   "cell_type": "markdown",
   "metadata": {},
   "source": [
    "#### 2.2.2 Ridge Regression With My Features"
   ]
  },
  {
   "cell_type": "code",
   "execution_count": 99,
   "metadata": {},
   "outputs": [],
   "source": [
    "ridge_model = RidgeCV(alphas=alphas, cv=5, scoring='r2')\n",
    "ridge_model.fit(X_train, y_train)\n",
    "ridge_y_pred = ridge_model.predict(X_test)"
   ]
  },
  {
   "cell_type": "markdown",
   "metadata": {},
   "source": [
    "#### 2.3 Linear Regression"
   ]
  },
  {
   "cell_type": "code",
   "execution_count": 100,
   "metadata": {},
   "outputs": [
    {
     "data": {
      "text/plain": [
       "{'copy_X': True, 'fit_intercept': True, 'n_jobs': None, 'positive': False}"
      ]
     },
     "execution_count": 100,
     "metadata": {},
     "output_type": "execute_result"
    }
   ],
   "source": [
    "from sklearn.linear_model import LinearRegression\n",
    "\n",
    "# Get the params in LinearRegression\n",
    "LinearRegression().get_params()"
   ]
  },
  {
   "cell_type": "code",
   "execution_count": 101,
   "metadata": {},
   "outputs": [],
   "source": [
    "params = {\"fit_intercept\": [True, False], \"positive\": [True, False]}"
   ]
  },
  {
   "cell_type": "markdown",
   "metadata": {},
   "source": [
    "#### 2.3.1 Linear Regression With Lasso Features"
   ]
  },
  {
   "cell_type": "code",
   "execution_count": 102,
   "metadata": {},
   "outputs": [
    {
     "name": "stdout",
     "output_type": "stream",
     "text": [
      "Tuned Linear Regression Parameters: {'fit_intercept': True, 'positive': False}\n",
      "Tuned Linear Regression Best R2 Score: 0.7331372786803418\n"
     ]
    }
   ],
   "source": [
    "linear_regression_model_lasso = GridSearchCV(LinearRegression(), param_grid=params, cv=5, n_jobs=-1, scoring='r2')\n",
    "linear_regression_model_lasso.fit(X_train_lasso, y_train)\n",
    "\n",
    "print(\"Tuned Linear Regression Parameters: {}\".format(linear_regression_model_lasso.best_params_))\n",
    "print(\"Tuned Linear Regression Best R2 Score: {}\".format(linear_regression_model_lasso.best_score_))"
   ]
  },
  {
   "cell_type": "markdown",
   "metadata": {},
   "source": [
    "#### 2.3.2 Linear Regression With My Features"
   ]
  },
  {
   "cell_type": "code",
   "execution_count": 103,
   "metadata": {},
   "outputs": [
    {
     "name": "stdout",
     "output_type": "stream",
     "text": [
      "Tuned Linear Regression Parameters: {'fit_intercept': True, 'positive': True}\n",
      "Tuned Linear Regression Best R2 Score: 0.732525891024525\n"
     ]
    }
   ],
   "source": [
    "linear_regression_model = GridSearchCV(LinearRegression(), param_grid=params, cv=5, n_jobs=-1, scoring='r2')\n",
    "linear_regression_model.fit(X_train, y_train)\n",
    "\n",
    "print(\"Tuned Linear Regression Parameters: {}\".format(linear_regression_model.best_params_))\n",
    "print(\"Tuned Linear Regression Best R2 Score: {}\".format(linear_regression_model.best_score_))"
   ]
  },
  {
   "cell_type": "markdown",
   "metadata": {},
   "source": [
    "#### 2.4 Bayesian Ridge Regression"
   ]
  },
  {
   "cell_type": "code",
   "execution_count": 104,
   "metadata": {},
   "outputs": [
    {
     "data": {
      "text/plain": [
       "{'alpha_1': 1e-06,\n",
       " 'alpha_2': 1e-06,\n",
       " 'alpha_init': None,\n",
       " 'compute_score': False,\n",
       " 'copy_X': True,\n",
       " 'fit_intercept': True,\n",
       " 'lambda_1': 1e-06,\n",
       " 'lambda_2': 1e-06,\n",
       " 'lambda_init': None,\n",
       " 'max_iter': None,\n",
       " 'n_iter': 'deprecated',\n",
       " 'tol': 0.001,\n",
       " 'verbose': False}"
      ]
     },
     "execution_count": 104,
     "metadata": {},
     "output_type": "execute_result"
    }
   ],
   "source": [
    "from sklearn.linear_model import BayesianRidge\n",
    "\n",
    "# Get the params in BayesianRidge\n",
    "BayesianRidge().get_params()"
   ]
  },
  {
   "cell_type": "code",
   "execution_count": 105,
   "metadata": {},
   "outputs": [],
   "source": [
    "param_grid = {\n",
    "    'n_iter': [100, 200, 300, 400],\n",
    "    'alpha_1': [1e-4, 1e-5, 1e-6, 1e-7, 1e-8],\n",
    "    'alpha_2': [1e-4, 1e-5, 1e-6, 1e-7, 1e-8],\n",
    "    'lambda_1': [1e-4, 1e-5, 1e-6, 1e-7, 1e-8],\n",
    "    'lambda_2': [1e-4, 1e-5, 1e-6, 1e-7, 1e-8],\n",
    "}"
   ]
  },
  {
   "cell_type": "markdown",
   "metadata": {},
   "source": [
    "#### 2.4.1 Bayesian Ridge With Lasso Features"
   ]
  },
  {
   "cell_type": "code",
   "execution_count": 106,
   "metadata": {},
   "outputs": [
    {
     "name": "stdout",
     "output_type": "stream",
     "text": [
      "Tuned Bayesian Ridge Parameters: {'alpha_1': 1e-08, 'alpha_2': 0.0001, 'lambda_1': 0.0001, 'lambda_2': 1e-06, 'n_iter': 100}\n",
      "Tuned Bayesian Ridge Best R2 Score: 0.733140079919503\n"
     ]
    }
   ],
   "source": [
    "bayesian_ridge_model_lasso = GridSearchCV(BayesianRidge(), param_grid=param_grid, cv=5, n_jobs=-1, scoring='r2')\n",
    "bayesian_ridge_model_lasso.fit(X_train_lasso, y_train)\n",
    "\n",
    "print(\"Tuned Bayesian Ridge Parameters: {}\".format(bayesian_ridge_model_lasso.best_params_))\n",
    "print(\"Tuned Bayesian Ridge Best R2 Score: {}\".format(bayesian_ridge_model_lasso.best_score_))"
   ]
  },
  {
   "cell_type": "markdown",
   "metadata": {},
   "source": [
    "#### 2.4.2 Bayesian Ridge With My Features"
   ]
  },
  {
   "cell_type": "code",
   "execution_count": 107,
   "metadata": {},
   "outputs": [
    {
     "name": "stdout",
     "output_type": "stream",
     "text": [
      "Tuned Bayesian Ridge Parameters: {'alpha_1': 1e-08, 'alpha_2': 0.0001, 'lambda_1': 0.0001, 'lambda_2': 0.0001, 'n_iter': 100}\n",
      "Tuned Bayesian Ridge Best R2 Score: 0.7314290934617287\n"
     ]
    }
   ],
   "source": [
    "bayesian_ridge_model = GridSearchCV(BayesianRidge(), param_grid=param_grid, cv=5, n_jobs=-1, scoring='r2')\n",
    "bayesian_ridge_model.fit(X_train, y_train)\n",
    "\n",
    "print(\"Tuned Bayesian Ridge Parameters: {}\".format(bayesian_ridge_model.best_params_))\n",
    "print(\"Tuned Bayesian Ridge Best R2 Score: {}\".format(bayesian_ridge_model.best_score_))"
   ]
  },
  {
   "cell_type": "markdown",
   "metadata": {},
   "source": [
    "#### 2.5 Decision Tree Regressor Model"
   ]
  },
  {
   "cell_type": "code",
   "execution_count": 108,
   "metadata": {},
   "outputs": [
    {
     "data": {
      "text/plain": [
       "{'ccp_alpha': 0.0,\n",
       " 'criterion': 'squared_error',\n",
       " 'max_depth': None,\n",
       " 'max_features': None,\n",
       " 'max_leaf_nodes': None,\n",
       " 'min_impurity_decrease': 0.0,\n",
       " 'min_samples_leaf': 1,\n",
       " 'min_samples_split': 2,\n",
       " 'min_weight_fraction_leaf': 0.0,\n",
       " 'random_state': None,\n",
       " 'splitter': 'best'}"
      ]
     },
     "execution_count": 108,
     "metadata": {},
     "output_type": "execute_result"
    }
   ],
   "source": [
    "from sklearn.tree import DecisionTreeRegressor\n",
    "\n",
    "# Get the params in DecisionTreeRegressor\n",
    "DecisionTreeRegressor().get_params()"
   ]
  },
  {
   "cell_type": "code",
   "execution_count": 109,
   "metadata": {},
   "outputs": [],
   "source": [
    "param_grid = {\n",
    "    'max_depth': np.concatenate((np.arange(0,12,1), [None])),\n",
    "    'min_samples_split': np.arange(0,8,1),\n",
    "    'min_samples_leaf': np.arange(0,12,1)\n",
    "}"
   ]
  },
  {
   "cell_type": "markdown",
   "metadata": {},
   "source": [
    "#### 2.5.1 Decision Tree Regressor With Lasso Features"
   ]
  },
  {
   "cell_type": "code",
   "execution_count": 110,
   "metadata": {},
   "outputs": [
    {
     "name": "stdout",
     "output_type": "stream",
     "text": [
      "Tuned Decision Tree Regressor Parameters: {'max_depth': 4, 'min_samples_leaf': 1, 'min_samples_split': 2}\n",
      "Tuned Decision Tree Regressor Best R2 Score: 0.8417172960750039\n"
     ]
    }
   ],
   "source": [
    "decision_tree_model_lasso = GridSearchCV(DecisionTreeRegressor(), param_grid=param_grid, cv=5, n_jobs=-1, scoring='r2')\n",
    "decision_tree_model_lasso.fit(X_train_lasso, y_train)\n",
    "\n",
    "print(\"Tuned Decision Tree Regressor Parameters: {}\".format(decision_tree_model_lasso.best_params_))\n",
    "print(\"Tuned Decision Tree Regressor Best R2 Score: {}\".format(decision_tree_model_lasso.best_score_))"
   ]
  },
  {
   "cell_type": "markdown",
   "metadata": {},
   "source": [
    "#### 2.5.2 Decision Tree Regressor With My Features"
   ]
  },
  {
   "cell_type": "code",
   "execution_count": 111,
   "metadata": {},
   "outputs": [
    {
     "name": "stdout",
     "output_type": "stream",
     "text": [
      "Tuned Decision Tree Regressor Parameters: {'max_depth': 4, 'min_samples_leaf': 1, 'min_samples_split': 2}\n",
      "Tuned Decision Tree Regressor Best R2 Score: 0.8414193488922151\n"
     ]
    }
   ],
   "source": [
    "decision_tree_model = GridSearchCV(DecisionTreeRegressor(), param_grid=param_grid, cv=5, n_jobs=-1, scoring='r2')\n",
    "decision_tree_model.fit(X_train, y_train)\n",
    "\n",
    "print(\"Tuned Decision Tree Regressor Parameters: {}\".format(decision_tree_model.best_params_))\n",
    "print(\"Tuned Decision Tree Regressor Best R2 Score: {}\".format(decision_tree_model.best_score_))"
   ]
  },
  {
   "cell_type": "markdown",
   "metadata": {},
   "source": [
    "#### 2.6 SVR Model"
   ]
  },
  {
   "cell_type": "code",
   "execution_count": 112,
   "metadata": {},
   "outputs": [
    {
     "data": {
      "text/plain": [
       "{'C': 1.0,\n",
       " 'cache_size': 200,\n",
       " 'coef0': 0.0,\n",
       " 'degree': 3,\n",
       " 'epsilon': 0.1,\n",
       " 'gamma': 'scale',\n",
       " 'kernel': 'rbf',\n",
       " 'max_iter': -1,\n",
       " 'shrinking': True,\n",
       " 'tol': 0.001,\n",
       " 'verbose': False}"
      ]
     },
     "execution_count": 112,
     "metadata": {},
     "output_type": "execute_result"
    }
   ],
   "source": [
    "from sklearn.svm import SVR\n",
    "\n",
    "# Get the params in DecisionTreeRegressor\n",
    "SVR().get_params()"
   ]
  },
  {
   "cell_type": "code",
   "execution_count": 113,
   "metadata": {},
   "outputs": [],
   "source": [
    "param_grid = {\n",
    "    'C': np.linspace(0.01, 5, 100),\n",
    "    'gamma': np.linspace(0.01, 1, 200)\n",
    "}"
   ]
  },
  {
   "cell_type": "markdown",
   "metadata": {},
   "source": [
    "#### 2.6.1 SVR With Lasso Features"
   ]
  },
  {
   "cell_type": "code",
   "execution_count": 114,
   "metadata": {},
   "outputs": [
    {
     "name": "stdout",
     "output_type": "stream",
     "text": [
      "Tuned Support Vector Regressor Parameters: {'gamma': 0.5323618090452261, 'C': 5.0}\n",
      "Tuned Support Vector Regressor Best R2 Score: -0.08618355459216528\n"
     ]
    }
   ],
   "source": [
    "svr_model_lasso = RandomizedSearchCV(SVR(), param_distributions=param_grid, cv=5, n_jobs=-1, scoring='r2', n_iter=100)\n",
    "svr_model_lasso.fit(X_train_lasso, y_train)\n",
    "\n",
    "print(\"Tuned Support Vector Regressor Parameters: {}\".format(svr_model_lasso.best_params_))\n",
    "print(\"Tuned Support Vector Regressor Best R2 Score: {}\".format(svr_model_lasso.best_score_))"
   ]
  },
  {
   "cell_type": "markdown",
   "metadata": {},
   "source": [
    "#### 2.6.2 SVR With My Features"
   ]
  },
  {
   "cell_type": "code",
   "execution_count": 115,
   "metadata": {},
   "outputs": [
    {
     "name": "stdout",
     "output_type": "stream",
     "text": [
      "Tuned Support Vector Regressor Parameters: {'gamma': 0.23386934673366835, 'C': 4.9495959595959595}\n",
      "Tuned Support Vector Regressor Best R2 Score: -0.09210796214272192\n"
     ]
    }
   ],
   "source": [
    "svr_model = RandomizedSearchCV(SVR(), param_distributions=param_grid, cv=5, n_jobs=-1, scoring='r2', n_iter=100)\n",
    "svr_model.fit(X_train, y_train)\n",
    "\n",
    "print(\"Tuned Support Vector Regressor Parameters: {}\".format(svr_model.best_params_))\n",
    "print(\"Tuned Support Vector Regressor Best R2 Score: {}\".format(svr_model.best_score_))"
   ]
  },
  {
   "cell_type": "markdown",
   "metadata": {},
   "source": [
    "#### 2.7 Dummy Regressor Model"
   ]
  },
  {
   "cell_type": "code",
   "execution_count": 116,
   "metadata": {},
   "outputs": [
    {
     "data": {
      "text/plain": [
       "{'constant': None, 'quantile': None, 'strategy': 'mean'}"
      ]
     },
     "execution_count": 116,
     "metadata": {},
     "output_type": "execute_result"
    }
   ],
   "source": [
    "# Import the DummyRegressor\n",
    "from sklearn.dummy import DummyRegressor\n",
    "\n",
    "DummyRegressor().get_params()"
   ]
  },
  {
   "cell_type": "code",
   "execution_count": 117,
   "metadata": {},
   "outputs": [],
   "source": [
    "param_grid = {\n",
    "    'strategy': ['mean', 'median', 'quantile', 'constant']\n",
    "}"
   ]
  },
  {
   "cell_type": "markdown",
   "metadata": {},
   "source": [
    "#### 2.7.1 Dummy Regressor With Lasso Features"
   ]
  },
  {
   "cell_type": "code",
   "execution_count": 118,
   "metadata": {},
   "outputs": [
    {
     "name": "stdout",
     "output_type": "stream",
     "text": [
      "Tuned Dummy Regressor Parameters: {'strategy': 'mean'}\n",
      "Tuned Dummy Regressor Regressor Best R2 Score: -0.004796192893767958\n"
     ]
    }
   ],
   "source": [
    "dummy_model_lasso = GridSearchCV(DummyRegressor(), param_grid=param_grid, cv=5, n_jobs=-1, scoring='r2')\n",
    "dummy_model_lasso.fit(X_train_lasso, y_train)\n",
    "\n",
    "print(\"Tuned Dummy Regressor Parameters: {}\".format(dummy_model_lasso.best_params_))\n",
    "print(\"Tuned Dummy Regressor Regressor Best R2 Score: {}\".format(dummy_model_lasso.best_score_))"
   ]
  },
  {
   "cell_type": "markdown",
   "metadata": {},
   "source": [
    "#### 2.7.2 Dummy Regressor With My Features"
   ]
  },
  {
   "cell_type": "code",
   "execution_count": 119,
   "metadata": {},
   "outputs": [
    {
     "name": "stdout",
     "output_type": "stream",
     "text": [
      "Tuned Dummy Regressor Parameters: {'strategy': 'mean'}\n",
      "Tuned Dummy Regressor Regressor Best R2 Score: -0.004796192893767958\n"
     ]
    }
   ],
   "source": [
    "dummy_model = GridSearchCV(DummyRegressor(), param_grid=param_grid, cv=5, n_jobs=-1, scoring='r2')\n",
    "dummy_model.fit(X_train, y_train)\n",
    "\n",
    "print(\"Tuned Dummy Regressor Parameters: {}\".format(dummy_model.best_params_))\n",
    "print(\"Tuned Dummy Regressor Regressor Best R2 Score: {}\".format(dummy_model.best_score_))"
   ]
  },
  {
   "cell_type": "markdown",
   "metadata": {},
   "source": [
    "### 3. K-Fold Validation For Models"
   ]
  },
  {
   "cell_type": "markdown",
   "metadata": {},
   "source": [
    "#### 3.1 Lasso Regression"
   ]
  },
  {
   "cell_type": "code",
   "execution_count": 120,
   "metadata": {},
   "outputs": [
    {
     "name": "stderr",
     "output_type": "stream",
     "text": [
      "[Parallel(n_jobs=-1)]: Using backend LokyBackend with 20 concurrent workers.\n",
      "[Parallel(n_jobs=-1)]: Done   2 out of   5 | elapsed:    0.3s remaining:    0.5s\n",
      "[Parallel(n_jobs=-1)]: Done   5 out of   5 | elapsed:    0.4s finished\n",
      "[Parallel(n_jobs=-1)]: Using backend LokyBackend with 20 concurrent workers.\n",
      "[Parallel(n_jobs=-1)]: Done   2 out of   5 | elapsed:    0.3s remaining:    0.5s\n",
      "[Parallel(n_jobs=-1)]: Done   5 out of   5 | elapsed:    0.4s finished\n",
      "[Parallel(n_jobs=-1)]: Using backend LokyBackend with 20 concurrent workers.\n",
      "[Parallel(n_jobs=-1)]: Done   2 out of   5 | elapsed:    0.3s remaining:    0.5s\n",
      "[Parallel(n_jobs=-1)]: Done   5 out of   5 | elapsed:    0.4s finished\n"
     ]
    }
   ],
   "source": [
    "lasso_model_lasso_r2 = cross_val_score(lasso_model_lasso, X_train_lasso, y_train, cv = 5, scoring='r2', n_jobs=-1, verbose=3)\n",
    "lasso_model_lasso_mae = cross_val_score(lasso_model_lasso, X_train_lasso, y_train, cv = 5, scoring='neg_mean_absolute_error', n_jobs=-1, verbose=3)*-1\n",
    "lasso_model_lasso_mse = cross_val_score(lasso_model_lasso, X_train_lasso, y_train, cv = 5, scoring='neg_mean_squared_error', n_jobs=-1, verbose=3)*-1"
   ]
  },
  {
   "cell_type": "code",
   "execution_count": 121,
   "metadata": {},
   "outputs": [
    {
     "name": "stderr",
     "output_type": "stream",
     "text": [
      "[Parallel(n_jobs=-1)]: Using backend LokyBackend with 20 concurrent workers.\n",
      "[Parallel(n_jobs=-1)]: Done   2 out of   5 | elapsed:    0.3s remaining:    0.5s\n",
      "[Parallel(n_jobs=-1)]: Done   5 out of   5 | elapsed:    0.4s finished\n",
      "[Parallel(n_jobs=-1)]: Using backend LokyBackend with 20 concurrent workers.\n",
      "[Parallel(n_jobs=-1)]: Done   2 out of   5 | elapsed:    0.3s remaining:    0.5s\n",
      "[Parallel(n_jobs=-1)]: Done   5 out of   5 | elapsed:    0.4s finished\n",
      "[Parallel(n_jobs=-1)]: Using backend LokyBackend with 20 concurrent workers.\n",
      "[Parallel(n_jobs=-1)]: Done   2 out of   5 | elapsed:    0.3s remaining:    0.5s\n",
      "[Parallel(n_jobs=-1)]: Done   5 out of   5 | elapsed:    0.4s finished\n"
     ]
    }
   ],
   "source": [
    "lasso_model_r2 = cross_val_score(lasso_model, X_train, y_train, cv = 5, scoring='r2', n_jobs=-1, verbose=3)\n",
    "lasso_model_mae = cross_val_score(lasso_model, X_train, y_train, cv = 5, scoring='neg_mean_absolute_error', n_jobs=-1, verbose=3)*-1\n",
    "lasso_model_mse = cross_val_score(lasso_model, X_train, y_train, cv = 5, scoring='neg_mean_squared_error', n_jobs=-1, verbose=3)*-1"
   ]
  },
  {
   "cell_type": "markdown",
   "metadata": {},
   "source": [
    "#### 3.2 Ridge Regression"
   ]
  },
  {
   "cell_type": "code",
   "execution_count": 122,
   "metadata": {},
   "outputs": [
    {
     "name": "stderr",
     "output_type": "stream",
     "text": [
      "[Parallel(n_jobs=-1)]: Using backend LokyBackend with 20 concurrent workers.\n",
      "[Parallel(n_jobs=-1)]: Done   2 out of   5 | elapsed:   12.3s remaining:   18.4s\n",
      "[Parallel(n_jobs=-1)]: Done   5 out of   5 | elapsed:   12.3s finished\n",
      "[Parallel(n_jobs=-1)]: Using backend LokyBackend with 20 concurrent workers.\n",
      "[Parallel(n_jobs=-1)]: Done   2 out of   5 | elapsed:   11.4s remaining:   17.2s\n",
      "[Parallel(n_jobs=-1)]: Done   5 out of   5 | elapsed:   11.6s finished\n",
      "[Parallel(n_jobs=-1)]: Using backend LokyBackend with 20 concurrent workers.\n",
      "[Parallel(n_jobs=-1)]: Done   2 out of   5 | elapsed:   11.4s remaining:   17.1s\n",
      "[Parallel(n_jobs=-1)]: Done   5 out of   5 | elapsed:   11.6s finished\n"
     ]
    }
   ],
   "source": [
    "ridge_model_lasso_r2 = cross_val_score(ridge_model_lasso, X_train_lasso, y_train, cv = 5, scoring='r2', n_jobs=-1, verbose=3)\n",
    "ridge_model_lasso_mae = cross_val_score(ridge_model_lasso, X_train_lasso, y_train, cv = 5, scoring='neg_mean_absolute_error', n_jobs=-1, verbose=3)*-1\n",
    "ridge_model_lasso_mse = cross_val_score(ridge_model_lasso, X_train_lasso, y_train, cv = 5, scoring='neg_mean_squared_error', n_jobs=-1, verbose=3)*-1"
   ]
  },
  {
   "cell_type": "code",
   "execution_count": 123,
   "metadata": {},
   "outputs": [
    {
     "name": "stderr",
     "output_type": "stream",
     "text": [
      "[Parallel(n_jobs=-1)]: Using backend LokyBackend with 20 concurrent workers.\n",
      "[Parallel(n_jobs=-1)]: Done   2 out of   5 | elapsed:   12.7s remaining:   19.2s\n",
      "[Parallel(n_jobs=-1)]: Done   5 out of   5 | elapsed:   12.8s finished\n",
      "[Parallel(n_jobs=-1)]: Using backend LokyBackend with 20 concurrent workers.\n",
      "[Parallel(n_jobs=-1)]: Done   2 out of   5 | elapsed:   12.5s remaining:   18.8s\n",
      "[Parallel(n_jobs=-1)]: Done   5 out of   5 | elapsed:   12.6s finished\n",
      "[Parallel(n_jobs=-1)]: Using backend LokyBackend with 20 concurrent workers.\n",
      "[Parallel(n_jobs=-1)]: Done   2 out of   5 | elapsed:   12.4s remaining:   18.7s\n",
      "[Parallel(n_jobs=-1)]: Done   5 out of   5 | elapsed:   12.5s finished\n"
     ]
    }
   ],
   "source": [
    "ridge_model_r2 = cross_val_score(ridge_model, X_train, y_train, cv = 5, scoring='r2', n_jobs=-1, verbose=3)\n",
    "ridge_model_mae = cross_val_score(ridge_model, X_train, y_train, cv = 5, scoring='neg_mean_absolute_error', n_jobs=-1, verbose=3)*-1\n",
    "ridge_model_mse = cross_val_score(ridge_model, X_train, y_train, cv = 5, scoring='neg_mean_squared_error', n_jobs=-1, verbose=3)*-1"
   ]
  },
  {
   "cell_type": "markdown",
   "metadata": {},
   "source": [
    "#### 3.3 Linear Regression"
   ]
  },
  {
   "cell_type": "code",
   "execution_count": 124,
   "metadata": {},
   "outputs": [
    {
     "name": "stderr",
     "output_type": "stream",
     "text": [
      "[Parallel(n_jobs=-1)]: Using backend LokyBackend with 20 concurrent workers.\n",
      "[Parallel(n_jobs=-1)]: Done   2 out of   5 | elapsed:    0.0s remaining:    0.0s\n",
      "[Parallel(n_jobs=-1)]: Done   5 out of   5 | elapsed:    0.0s finished\n",
      "[Parallel(n_jobs=-1)]: Using backend LokyBackend with 20 concurrent workers.\n",
      "[Parallel(n_jobs=-1)]: Done   2 out of   5 | elapsed:    0.0s remaining:    0.0s\n",
      "[Parallel(n_jobs=-1)]: Done   5 out of   5 | elapsed:    0.0s finished\n",
      "[Parallel(n_jobs=-1)]: Using backend LokyBackend with 20 concurrent workers.\n",
      "[Parallel(n_jobs=-1)]: Done   2 out of   5 | elapsed:    0.0s remaining:    0.0s\n",
      "[Parallel(n_jobs=-1)]: Done   5 out of   5 | elapsed:    0.0s finished\n"
     ]
    }
   ],
   "source": [
    "linear_regression_model_lasso_r2 = cross_val_score(linear_regression_model_lasso, X_train_lasso, y_train, cv = 5, scoring='r2', n_jobs=-1, verbose=3)\n",
    "linear_regression_model_lasso_mae = cross_val_score(linear_regression_model_lasso, X_train_lasso, y_train, cv = 5, scoring='neg_mean_absolute_error', n_jobs=-1, verbose=3)*-1\n",
    "linear_regression_model_lasso_mse = cross_val_score(linear_regression_model_lasso, X_train_lasso, y_train, cv = 5, scoring='neg_mean_squared_error', n_jobs=-1, verbose=3)*-1"
   ]
  },
  {
   "cell_type": "code",
   "execution_count": 125,
   "metadata": {},
   "outputs": [
    {
     "name": "stderr",
     "output_type": "stream",
     "text": [
      "[Parallel(n_jobs=-1)]: Using backend LokyBackend with 20 concurrent workers.\n",
      "[Parallel(n_jobs=-1)]: Done   2 out of   5 | elapsed:    0.0s remaining:    0.0s\n",
      "[Parallel(n_jobs=-1)]: Done   5 out of   5 | elapsed:    0.0s finished\n",
      "[Parallel(n_jobs=-1)]: Using backend LokyBackend with 20 concurrent workers.\n",
      "[Parallel(n_jobs=-1)]: Done   2 out of   5 | elapsed:    0.0s remaining:    0.0s\n",
      "[Parallel(n_jobs=-1)]: Done   5 out of   5 | elapsed:    0.0s finished\n",
      "[Parallel(n_jobs=-1)]: Using backend LokyBackend with 20 concurrent workers.\n",
      "[Parallel(n_jobs=-1)]: Done   2 out of   5 | elapsed:    0.0s remaining:    0.0s\n",
      "[Parallel(n_jobs=-1)]: Done   5 out of   5 | elapsed:    0.0s finished\n"
     ]
    }
   ],
   "source": [
    "linear_regression_model_r2 = cross_val_score(linear_regression_model, X_train, y_train, cv = 5, scoring='r2', n_jobs=-1, verbose=3)\n",
    "linear_regression_model_mae = cross_val_score(linear_regression_model, X_train, y_train, cv = 5, scoring='neg_mean_absolute_error', n_jobs=-1, verbose=3)*-1\n",
    "linear_regression_model_mse = cross_val_score(linear_regression_model, X_train, y_train, cv = 5, scoring='neg_mean_squared_error', n_jobs=-1, verbose=3)*-1"
   ]
  },
  {
   "cell_type": "markdown",
   "metadata": {},
   "source": [
    "#### 3.4 Bayesian Ridge Regression"
   ]
  },
  {
   "cell_type": "code",
   "execution_count": 126,
   "metadata": {},
   "outputs": [
    {
     "name": "stderr",
     "output_type": "stream",
     "text": [
      "[Parallel(n_jobs=-1)]: Using backend LokyBackend with 20 concurrent workers.\n",
      "[Parallel(n_jobs=-1)]: Done   2 out of   5 | elapsed:   50.0s remaining:  1.3min\n",
      "[Parallel(n_jobs=-1)]: Done   5 out of   5 | elapsed:   50.1s finished\n",
      "[Parallel(n_jobs=-1)]: Using backend LokyBackend with 20 concurrent workers.\n",
      "[Parallel(n_jobs=-1)]: Done   2 out of   5 | elapsed:   49.8s remaining:  1.2min\n",
      "[Parallel(n_jobs=-1)]: Done   5 out of   5 | elapsed:   50.0s finished\n",
      "[Parallel(n_jobs=-1)]: Using backend LokyBackend with 20 concurrent workers.\n",
      "[Parallel(n_jobs=-1)]: Done   2 out of   5 | elapsed:   49.8s remaining:  1.2min\n",
      "[Parallel(n_jobs=-1)]: Done   5 out of   5 | elapsed:   50.1s finished\n"
     ]
    }
   ],
   "source": [
    "bayesian_ridge_model_lasso_r2 = cross_val_score(bayesian_ridge_model_lasso, X_train_lasso, y_train, cv = 5, scoring='r2', n_jobs=-1, verbose=3)\n",
    "bayesian_ridge_model_lasso_mae = cross_val_score(bayesian_ridge_model_lasso, X_train_lasso, y_train, cv = 5, scoring='neg_mean_absolute_error', n_jobs=-1, verbose=3)*-1\n",
    "bayesian_ridge_model_lasso_mse = cross_val_score(bayesian_ridge_model_lasso, X_train_lasso, y_train, cv = 5, scoring='neg_mean_squared_error', n_jobs=-1, verbose=3)*-1"
   ]
  },
  {
   "cell_type": "code",
   "execution_count": 127,
   "metadata": {},
   "outputs": [
    {
     "name": "stderr",
     "output_type": "stream",
     "text": [
      "[Parallel(n_jobs=-1)]: Using backend LokyBackend with 20 concurrent workers.\n",
      "[Parallel(n_jobs=-1)]: Done   2 out of   5 | elapsed:   56.2s remaining:  1.4min\n",
      "[Parallel(n_jobs=-1)]: Done   5 out of   5 | elapsed:   56.9s finished\n",
      "[Parallel(n_jobs=-1)]: Using backend LokyBackend with 20 concurrent workers.\n",
      "[Parallel(n_jobs=-1)]: Done   2 out of   5 | elapsed:   55.1s remaining:  1.4min\n",
      "[Parallel(n_jobs=-1)]: Done   5 out of   5 | elapsed:   55.7s finished\n",
      "[Parallel(n_jobs=-1)]: Using backend LokyBackend with 20 concurrent workers.\n",
      "[Parallel(n_jobs=-1)]: Done   2 out of   5 | elapsed:   54.8s remaining:  1.4min\n",
      "[Parallel(n_jobs=-1)]: Done   5 out of   5 | elapsed:   55.4s finished\n"
     ]
    }
   ],
   "source": [
    "bayesian_ridge_model_r2 = cross_val_score(bayesian_ridge_model, X_train, y_train, cv = 5, scoring='r2', n_jobs=-1, verbose=3)\n",
    "bayesian_ridge_model_mae = cross_val_score(bayesian_ridge_model, X_train, y_train, cv = 5, scoring='neg_mean_absolute_error', n_jobs=-1, verbose=3)*-1\n",
    "bayesian_ridge_model_mse = cross_val_score(bayesian_ridge_model, X_train, y_train, cv = 5, scoring='neg_mean_squared_error', n_jobs=-1, verbose=3)*-1"
   ]
  },
  {
   "cell_type": "markdown",
   "metadata": {},
   "source": [
    "#### 3.5 Decision Tree Regressor Model"
   ]
  },
  {
   "cell_type": "code",
   "execution_count": 128,
   "metadata": {},
   "outputs": [
    {
     "name": "stderr",
     "output_type": "stream",
     "text": [
      "[Parallel(n_jobs=-1)]: Using backend LokyBackend with 20 concurrent workers.\n",
      "[Parallel(n_jobs=-1)]: Done   2 out of   5 | elapsed:   15.3s remaining:   23.1s\n",
      "[Parallel(n_jobs=-1)]: Done   5 out of   5 | elapsed:   15.4s finished\n",
      "[Parallel(n_jobs=-1)]: Using backend LokyBackend with 20 concurrent workers.\n",
      "[Parallel(n_jobs=-1)]: Done   2 out of   5 | elapsed:   15.0s remaining:   22.5s\n",
      "[Parallel(n_jobs=-1)]: Done   5 out of   5 | elapsed:   15.1s finished\n",
      "[Parallel(n_jobs=-1)]: Using backend LokyBackend with 20 concurrent workers.\n",
      "[Parallel(n_jobs=-1)]: Done   2 out of   5 | elapsed:   15.0s remaining:   22.6s\n",
      "[Parallel(n_jobs=-1)]: Done   5 out of   5 | elapsed:   15.1s finished\n"
     ]
    }
   ],
   "source": [
    "decision_tree_model_lasso_r2 = cross_val_score(decision_tree_model_lasso, X_train_lasso, y_train, cv = 5, scoring='r2', n_jobs=-1, verbose=3)\n",
    "decision_tree_model_lasso_mae = cross_val_score(decision_tree_model_lasso, X_train_lasso, y_train, cv = 5, scoring='neg_mean_absolute_error', n_jobs=-1, verbose=3)*-1\n",
    "decision_tree_model_lasso_mse = cross_val_score(decision_tree_model_lasso, X_train_lasso, y_train, cv = 5, scoring='neg_mean_squared_error', n_jobs=-1, verbose=3)*-1"
   ]
  },
  {
   "cell_type": "code",
   "execution_count": 129,
   "metadata": {},
   "outputs": [
    {
     "name": "stderr",
     "output_type": "stream",
     "text": [
      "[Parallel(n_jobs=-1)]: Using backend LokyBackend with 20 concurrent workers.\n",
      "[Parallel(n_jobs=-1)]: Done   2 out of   5 | elapsed:   16.8s remaining:   25.3s\n",
      "[Parallel(n_jobs=-1)]: Done   5 out of   5 | elapsed:   16.9s finished\n",
      "[Parallel(n_jobs=-1)]: Using backend LokyBackend with 20 concurrent workers.\n",
      "[Parallel(n_jobs=-1)]: Done   2 out of   5 | elapsed:   16.9s remaining:   25.3s\n",
      "[Parallel(n_jobs=-1)]: Done   5 out of   5 | elapsed:   16.9s finished\n",
      "[Parallel(n_jobs=-1)]: Using backend LokyBackend with 20 concurrent workers.\n",
      "[Parallel(n_jobs=-1)]: Done   2 out of   5 | elapsed:   16.8s remaining:   25.2s\n",
      "[Parallel(n_jobs=-1)]: Done   5 out of   5 | elapsed:   16.9s finished\n"
     ]
    }
   ],
   "source": [
    "decision_tree_model_r2 = cross_val_score(decision_tree_model, X_train, y_train, cv = 5, scoring='r2', n_jobs=-1, verbose=3)\n",
    "decision_tree_model_mae = cross_val_score(decision_tree_model, X_train, y_train, cv = 5, scoring='neg_mean_absolute_error', n_jobs=-1, verbose=3)*-1\n",
    "decision_tree_model_mse = cross_val_score(decision_tree_model, X_train, y_train, cv = 5, scoring='neg_mean_squared_error', n_jobs=-1, verbose=3)*-1"
   ]
  },
  {
   "cell_type": "markdown",
   "metadata": {},
   "source": [
    "#### 3.6 SVR Model"
   ]
  },
  {
   "cell_type": "code",
   "execution_count": 130,
   "metadata": {},
   "outputs": [
    {
     "name": "stderr",
     "output_type": "stream",
     "text": [
      "[Parallel(n_jobs=-1)]: Using backend LokyBackend with 20 concurrent workers.\n"
     ]
    },
    {
     "name": "stderr",
     "output_type": "stream",
     "text": [
      "[Parallel(n_jobs=-1)]: Done   2 out of   5 | elapsed:    6.4s remaining:    9.7s\n",
      "[Parallel(n_jobs=-1)]: Done   5 out of   5 | elapsed:    6.5s finished\n",
      "[Parallel(n_jobs=-1)]: Using backend LokyBackend with 20 concurrent workers.\n",
      "[Parallel(n_jobs=-1)]: Done   2 out of   5 | elapsed:    6.4s remaining:    9.7s\n",
      "[Parallel(n_jobs=-1)]: Done   5 out of   5 | elapsed:    6.6s finished\n",
      "[Parallel(n_jobs=-1)]: Using backend LokyBackend with 20 concurrent workers.\n",
      "[Parallel(n_jobs=-1)]: Done   2 out of   5 | elapsed:    6.3s remaining:    9.6s\n",
      "[Parallel(n_jobs=-1)]: Done   5 out of   5 | elapsed:    6.6s finished\n"
     ]
    }
   ],
   "source": [
    "svr_model_lasso_r2 = cross_val_score(svr_model_lasso, X_train_lasso, y_train, cv = 5, scoring='r2', n_jobs=-1, verbose=3)\n",
    "svr_model_lasso_mae = cross_val_score(svr_model_lasso, X_train_lasso, y_train, cv = 5, scoring='neg_mean_absolute_error', n_jobs=-1, verbose=3)*-1\n",
    "svr_model_lasso_mse = cross_val_score(svr_model_lasso, X_train_lasso, y_train, cv = 5, scoring='neg_mean_squared_error', n_jobs=-1, verbose=3)*-1"
   ]
  },
  {
   "cell_type": "code",
   "execution_count": 131,
   "metadata": {},
   "outputs": [
    {
     "name": "stderr",
     "output_type": "stream",
     "text": [
      "[Parallel(n_jobs=-1)]: Using backend LokyBackend with 20 concurrent workers.\n"
     ]
    },
    {
     "name": "stderr",
     "output_type": "stream",
     "text": [
      "[Parallel(n_jobs=-1)]: Done   2 out of   5 | elapsed:    6.6s remaining:    9.9s\n",
      "[Parallel(n_jobs=-1)]: Done   5 out of   5 | elapsed:    6.7s finished\n",
      "[Parallel(n_jobs=-1)]: Using backend LokyBackend with 20 concurrent workers.\n",
      "[Parallel(n_jobs=-1)]: Done   2 out of   5 | elapsed:    6.5s remaining:    9.8s\n",
      "[Parallel(n_jobs=-1)]: Done   5 out of   5 | elapsed:    6.7s finished\n",
      "[Parallel(n_jobs=-1)]: Using backend LokyBackend with 20 concurrent workers.\n",
      "[Parallel(n_jobs=-1)]: Done   2 out of   5 | elapsed:    6.6s remaining:    9.9s\n",
      "[Parallel(n_jobs=-1)]: Done   5 out of   5 | elapsed:    6.6s finished\n"
     ]
    }
   ],
   "source": [
    "svr_model_r2 = cross_val_score(svr_model, X_train, y_train, cv = 5, scoring='r2', n_jobs=-1, verbose=3)\n",
    "svr_model_mae = cross_val_score(svr_model, X_train, y_train, cv = 5, scoring='neg_mean_absolute_error', n_jobs=-1, verbose=3)*-1\n",
    "svr_model_mse = cross_val_score(svr_model, X_train, y_train, cv = 5, scoring='neg_mean_squared_error', n_jobs=-1, verbose=3)*-1"
   ]
  },
  {
   "cell_type": "markdown",
   "metadata": {},
   "source": [
    "#### 3.7 Dummy Regressor Model"
   ]
  },
  {
   "cell_type": "code",
   "execution_count": 132,
   "metadata": {},
   "outputs": [
    {
     "name": "stderr",
     "output_type": "stream",
     "text": [
      "[Parallel(n_jobs=-1)]: Using backend LokyBackend with 20 concurrent workers.\n",
      "[Parallel(n_jobs=-1)]: Done   2 out of   5 | elapsed:    0.0s remaining:    0.0s\n",
      "[Parallel(n_jobs=-1)]: Done   5 out of   5 | elapsed:    0.0s finished\n",
      "[Parallel(n_jobs=-1)]: Using backend LokyBackend with 20 concurrent workers.\n",
      "[Parallel(n_jobs=-1)]: Done   2 out of   5 | elapsed:    0.0s remaining:    0.0s\n",
      "[Parallel(n_jobs=-1)]: Done   5 out of   5 | elapsed:    0.0s finished\n",
      "[Parallel(n_jobs=-1)]: Using backend LokyBackend with 20 concurrent workers.\n",
      "[Parallel(n_jobs=-1)]: Done   2 out of   5 | elapsed:    0.0s remaining:    0.0s\n",
      "[Parallel(n_jobs=-1)]: Done   5 out of   5 | elapsed:    0.0s finished\n"
     ]
    }
   ],
   "source": [
    "dummy_model_lasso_r2 = cross_val_score(dummy_model_lasso, X_train_lasso, y_train, cv = 5, scoring='r2', n_jobs=-1, verbose=3)\n",
    "dummy_model_lasso_mae = cross_val_score(dummy_model_lasso, X_train_lasso, y_train, cv = 5, scoring='neg_mean_absolute_error', n_jobs=-1, verbose=3)*-1\n",
    "dummy_model_lasso_mse = cross_val_score(dummy_model_lasso, X_train_lasso, y_train, cv = 5, scoring='neg_mean_squared_error', n_jobs=-1, verbose=3)*-1"
   ]
  },
  {
   "cell_type": "code",
   "execution_count": 133,
   "metadata": {},
   "outputs": [
    {
     "name": "stderr",
     "output_type": "stream",
     "text": [
      "[Parallel(n_jobs=-1)]: Using backend LokyBackend with 20 concurrent workers.\n",
      "[Parallel(n_jobs=-1)]: Done   2 out of   5 | elapsed:    0.0s remaining:    0.0s\n",
      "[Parallel(n_jobs=-1)]: Done   5 out of   5 | elapsed:    0.0s finished\n",
      "[Parallel(n_jobs=-1)]: Using backend LokyBackend with 20 concurrent workers.\n",
      "[Parallel(n_jobs=-1)]: Done   2 out of   5 | elapsed:    0.0s remaining:    0.0s\n",
      "[Parallel(n_jobs=-1)]: Done   5 out of   5 | elapsed:    0.0s finished\n",
      "[Parallel(n_jobs=-1)]: Using backend LokyBackend with 20 concurrent workers.\n"
     ]
    },
    {
     "name": "stderr",
     "output_type": "stream",
     "text": [
      "[Parallel(n_jobs=-1)]: Done   2 out of   5 | elapsed:    0.0s remaining:    0.0s\n",
      "[Parallel(n_jobs=-1)]: Done   5 out of   5 | elapsed:    0.0s finished\n"
     ]
    }
   ],
   "source": [
    "dummy_model_r2 = cross_val_score(dummy_model, X_train, y_train, cv = 5, scoring='r2', n_jobs=-1, verbose=3)\n",
    "dummy_model_mae = cross_val_score(dummy_model, X_train, y_train, cv = 5, scoring='neg_mean_absolute_error', n_jobs=-1, verbose=3)*-1\n",
    "dummy_model_mse = cross_val_score(dummy_model, X_train, y_train, cv = 5, scoring='neg_mean_squared_error', n_jobs=-1, verbose=3)*-1"
   ]
  },
  {
   "cell_type": "markdown",
   "metadata": {},
   "source": [
    "### 4. Choose The Best Model"
   ]
  },
  {
   "cell_type": "markdown",
   "metadata": {},
   "source": [
    "#### 4.1 Model Evaluation For Lasso Features"
   ]
  },
  {
   "cell_type": "code",
   "execution_count": 134,
   "metadata": {},
   "outputs": [
    {
     "data": {
      "text/html": [
       "<div>\n",
       "<style scoped>\n",
       "    .dataframe tbody tr th:only-of-type {\n",
       "        vertical-align: middle;\n",
       "    }\n",
       "\n",
       "    .dataframe tbody tr th {\n",
       "        vertical-align: top;\n",
       "    }\n",
       "\n",
       "    .dataframe thead th {\n",
       "        text-align: right;\n",
       "    }\n",
       "</style>\n",
       "<table border=\"1\" class=\"dataframe\">\n",
       "  <thead>\n",
       "    <tr style=\"text-align: right;\">\n",
       "      <th></th>\n",
       "      <th>R2</th>\n",
       "      <th>MAE</th>\n",
       "      <th>MSE</th>\n",
       "    </tr>\n",
       "  </thead>\n",
       "  <tbody>\n",
       "    <tr>\n",
       "      <th>lasso_model_lasso</th>\n",
       "      <td>0.7331</td>\n",
       "      <td>4257.8106</td>\n",
       "      <td>3.794295e+07</td>\n",
       "    </tr>\n",
       "    <tr>\n",
       "      <th>ridge_model_lasso</th>\n",
       "      <td>0.7331</td>\n",
       "      <td>4271.7176</td>\n",
       "      <td>3.795229e+07</td>\n",
       "    </tr>\n",
       "    <tr>\n",
       "      <th>linear_regression_model_lasso</th>\n",
       "      <td>0.7331</td>\n",
       "      <td>4255.9036</td>\n",
       "      <td>3.793803e+07</td>\n",
       "    </tr>\n",
       "    <tr>\n",
       "      <th>bayesian_ridge_model_lasso</th>\n",
       "      <td>0.7331</td>\n",
       "      <td>4258.1738</td>\n",
       "      <td>3.793821e+07</td>\n",
       "    </tr>\n",
       "    <tr>\n",
       "      <th>decision_tree_model_lasso</th>\n",
       "      <td>0.8417</td>\n",
       "      <td>2769.4253</td>\n",
       "      <td>2.244196e+07</td>\n",
       "    </tr>\n",
       "    <tr>\n",
       "      <th>svr_model_lasso</th>\n",
       "      <td>-0.0863</td>\n",
       "      <td>8052.1454</td>\n",
       "      <td>1.565509e+08</td>\n",
       "    </tr>\n",
       "    <tr>\n",
       "      <th>dummy_model_lasso</th>\n",
       "      <td>-0.0048</td>\n",
       "      <td>9004.2100</td>\n",
       "      <td>1.445975e+08</td>\n",
       "    </tr>\n",
       "  </tbody>\n",
       "</table>\n",
       "</div>"
      ],
      "text/plain": [
       "                                   R2        MAE           MSE\n",
       "lasso_model_lasso              0.7331  4257.8106  3.794295e+07\n",
       "ridge_model_lasso              0.7331  4271.7176  3.795229e+07\n",
       "linear_regression_model_lasso  0.7331  4255.9036  3.793803e+07\n",
       "bayesian_ridge_model_lasso     0.7331  4258.1738  3.793821e+07\n",
       "decision_tree_model_lasso      0.8417  2769.4253  2.244196e+07\n",
       "svr_model_lasso               -0.0863  8052.1454  1.565509e+08\n",
       "dummy_model_lasso             -0.0048  9004.2100  1.445975e+08"
      ]
     },
     "execution_count": 134,
     "metadata": {},
     "output_type": "execute_result"
    }
   ],
   "source": [
    "models_lasso_scores = pd.DataFrame(\n",
    "    {\n",
    "        \"R2\": [round(np.mean(lasso_model_lasso_r2), 4), round(np.mean(ridge_model_lasso_r2), 4), round(np.mean(linear_regression_model_lasso_r2), 4), round(np.mean(bayesian_ridge_model_lasso_r2), 4), round(np.mean(decision_tree_model_lasso_r2), 4), round(np.mean(svr_model_lasso_r2), 4), round(np.mean(dummy_model_lasso_r2), 4)],\n",
    "        \"MAE\": [round(np.mean(lasso_model_lasso_mae), 4), round(np.mean(ridge_model_lasso_mae), 4), round(np.mean(linear_regression_model_lasso_mae), 4), round(np.mean(bayesian_ridge_model_lasso_mae), 4), round(np.mean(decision_tree_model_lasso_mae), 4), round(np.mean(svr_model_lasso_mae), 4), round(np.mean(dummy_model_lasso_mae), 4)],\n",
    "        \"MSE\": [round(np.mean(lasso_model_lasso_mse), 4), round(np.mean(ridge_model_lasso_mse), 4), round(np.mean(linear_regression_model_lasso_mse), 4), round(np.mean(bayesian_ridge_model_lasso_mse), 4), round(np.mean(decision_tree_model_lasso_mse), 4), round(np.mean(svr_model_lasso_mse), 4), round(np.mean(dummy_model_lasso_mse), 4)]\n",
    "    },\n",
    "    index=[\"lasso_model_lasso\", \"ridge_model_lasso\", \"linear_regression_model_lasso\", \"bayesian_ridge_model_lasso\", \"decision_tree_model_lasso\", \"svr_model_lasso\", \"dummy_model_lasso\"]\n",
    ")\n",
    "models_lasso_scores"
   ]
  },
  {
   "cell_type": "markdown",
   "metadata": {},
   "source": [
    "#### 4.1 Model Evaluation For My Features"
   ]
  },
  {
   "cell_type": "code",
   "execution_count": 135,
   "metadata": {},
   "outputs": [
    {
     "data": {
      "text/html": [
       "<div>\n",
       "<style scoped>\n",
       "    .dataframe tbody tr th:only-of-type {\n",
       "        vertical-align: middle;\n",
       "    }\n",
       "\n",
       "    .dataframe tbody tr th {\n",
       "        vertical-align: top;\n",
       "    }\n",
       "\n",
       "    .dataframe thead th {\n",
       "        text-align: right;\n",
       "    }\n",
       "</style>\n",
       "<table border=\"1\" class=\"dataframe\">\n",
       "  <thead>\n",
       "    <tr style=\"text-align: right;\">\n",
       "      <th></th>\n",
       "      <th>R2</th>\n",
       "      <th>MAE</th>\n",
       "      <th>MSE</th>\n",
       "    </tr>\n",
       "  </thead>\n",
       "  <tbody>\n",
       "    <tr>\n",
       "      <th>lasso_model</th>\n",
       "      <td>0.7324</td>\n",
       "      <td>4276.1214</td>\n",
       "      <td>3.805228e+07</td>\n",
       "    </tr>\n",
       "    <tr>\n",
       "      <th>ridge_model</th>\n",
       "      <td>0.7313</td>\n",
       "      <td>4290.7190</td>\n",
       "      <td>3.820581e+07</td>\n",
       "    </tr>\n",
       "    <tr>\n",
       "      <th>linear_regression_model</th>\n",
       "      <td>0.7324</td>\n",
       "      <td>4265.6688</td>\n",
       "      <td>3.804381e+07</td>\n",
       "    </tr>\n",
       "    <tr>\n",
       "      <th>bayesian_ridge_model</th>\n",
       "      <td>0.7314</td>\n",
       "      <td>4277.2276</td>\n",
       "      <td>3.818326e+07</td>\n",
       "    </tr>\n",
       "    <tr>\n",
       "      <th>decision_tree_model</th>\n",
       "      <td>0.8414</td>\n",
       "      <td>2788.7208</td>\n",
       "      <td>2.248344e+07</td>\n",
       "    </tr>\n",
       "    <tr>\n",
       "      <th>svr_model</th>\n",
       "      <td>-0.0922</td>\n",
       "      <td>8141.2635</td>\n",
       "      <td>1.574394e+08</td>\n",
       "    </tr>\n",
       "    <tr>\n",
       "      <th>dummy_model</th>\n",
       "      <td>-0.0048</td>\n",
       "      <td>9004.2100</td>\n",
       "      <td>1.445975e+08</td>\n",
       "    </tr>\n",
       "  </tbody>\n",
       "</table>\n",
       "</div>"
      ],
      "text/plain": [
       "                             R2        MAE           MSE\n",
       "lasso_model              0.7324  4276.1214  3.805228e+07\n",
       "ridge_model              0.7313  4290.7190  3.820581e+07\n",
       "linear_regression_model  0.7324  4265.6688  3.804381e+07\n",
       "bayesian_ridge_model     0.7314  4277.2276  3.818326e+07\n",
       "decision_tree_model      0.8414  2788.7208  2.248344e+07\n",
       "svr_model               -0.0922  8141.2635  1.574394e+08\n",
       "dummy_model             -0.0048  9004.2100  1.445975e+08"
      ]
     },
     "execution_count": 135,
     "metadata": {},
     "output_type": "execute_result"
    }
   ],
   "source": [
    "models_scores = pd.DataFrame(\n",
    "    {\n",
    "        \"R2\": [round(np.mean(lasso_model_r2), 4), round(np.mean(ridge_model_r2), 4), round(np.mean(linear_regression_model_r2), 4), round(np.mean(bayesian_ridge_model_r2), 4), round(np.mean(decision_tree_model_r2), 4), round(np.mean(svr_model_r2), 4), round(np.mean(dummy_model_r2), 4)],\n",
    "        \"MAE\": [round(np.mean(lasso_model_mae), 4), round(np.mean(ridge_model_mae), 4), round(np.mean(linear_regression_model_mae), 4), round(np.mean(bayesian_ridge_model_mae), 4), round(np.mean(decision_tree_model_mae), 4), round(np.mean(svr_model_mae), 4), round(np.mean(dummy_model_mae), 4)],\n",
    "        \"MSE\": [round(np.mean(lasso_model_mse), 4), round(np.mean(ridge_model_mse), 4), round(np.mean(linear_regression_model_mse), 4), round(np.mean(bayesian_ridge_model_mse), 4), round(np.mean(decision_tree_model_mse), 4), round(np.mean(svr_model_mse), 4), round(np.mean(dummy_model_mse), 4)]\n",
    "    },\n",
    "    index=[\"lasso_model\", \"ridge_model\", \"linear_regression_model\", \"bayesian_ridge_model\", \"decision_tree_model\", \"svr_model\", \"dummy_model\"]\n",
    ")\n",
    "models_scores"
   ]
  },
  {
   "cell_type": "markdown",
   "metadata": {},
   "source": [
    "### 5. Evaluating The Chosen Model"
   ]
  },
  {
   "cell_type": "markdown",
   "metadata": {},
   "source": [
    "From the results shown above, the Decision Tree Regressor trained on the features chosen by LassoCV and scaled has the highest R2 score, lowest MAE and MSE score making it clear that it is the best model for this dataset."
   ]
  },
  {
   "cell_type": "markdown",
   "metadata": {},
   "source": [
    "We will now test the model on the test data to get our final result"
   ]
  },
  {
   "cell_type": "code",
   "execution_count": 141,
   "metadata": {},
   "outputs": [
    {
     "name": "stdout",
     "output_type": "stream",
     "text": [
      "The model's R2 score: 0.86\n",
      "The model's MAE score: 2718.43\n",
      "The model's MSE score: 21433399.11\n"
     ]
    }
   ],
   "source": [
    "y_pred = decision_tree_model_lasso.predict(X_test_lasso)\n",
    "\n",
    "print(f\"The model's R2 score: {round(r2_score(y_test, y_pred), 2)}\")\n",
    "print(f\"The model's MAE score: {round(mean_absolute_error(y_test, y_pred), 2)}\")\n",
    "print(f\"The model's MSE score: {round(mean_squared_error(y_test, y_pred), 2)}\")"
   ]
  },
  {
   "cell_type": "markdown",
   "metadata": {},
   "source": [
    "### 6. Conclusion"
   ]
  },
  {
   "cell_type": "markdown",
   "metadata": {},
   "source": [
    "##### - How is your prediction task defined? And what is the meaning of the output variable?\n",
    "\n",
    "    We are predicting the hospital cost in US hospitals based on various patient information, such as ID, Age, Gender, BMI, etc.\n",
    "\n",
    "##### - Did you process the features in any way?\n",
    "\n",
    "    The features underwent scaling only. There was no imputation nor removing of outlier as there is no missing data in the data set and I can't be 100% certain that the outliers are unreasonable\n",
    "\n",
    "##### - How did you select which learning algorithms to use?\n",
    "\n",
    "    The selection of learning algorithms were chosen based on what we learned in class and also by researching models to use for regression\n",
    "\n",
    "##### - Did you try to tune the hyperparameters of the learning algorithm, and in that case how?\n",
    "\n",
    "    I made sure to tune the hyperparameters of all models. I did that by first looking at what params each model has to offer and then search through the sklearn documentation and google to find out which parameters to tune\n",
    "\n",
    "##### - How do you evaluate the quality of your system?\n",
    "\n",
    "    I evaluated the quality of my system using 3 different scoring metrics namely r2, mse and mae. The reason behind comparing using multiple scoring metrics is to ensure that the model is generally better than the rest.\n",
    "\n",
    "    I chose the model by making sure that at least 2 of its scoring metrics is the best when compared to other models\n",
    "\n",
    "##### - How well does your system compare to a dummy baseline?\n",
    "\n",
    "    My system compares dramatically better to the dummy baseline. To be specific, its r2 score is 17635.4% higher than the baseline, its MAE is 69.24% better than the baseline and its MSE is 84.48% better than the baseline.\n",
    "\n",
    "##### - Is it possible to say something about which features the model considers important? (Whether this is possible depends on the type of classifier you are using)\n",
    "\n",
    "    I can't say as to which features the Random Tree Regressor consideres important but the Lasso Regressor considered the Age, BMI and whether the person smokes to be important.\n",
    "\n",
    "    In addition, the Random Tree Regressor performed better when only using the features reccomended by the Lasso Regressor. Therefore, you could say that the Random Tree Regressor considers those features to be important."
   ]
  }
 ],
 "metadata": {
  "kernelspec": {
   "display_name": "Python 3",
   "language": "python",
   "name": "python3"
  },
  "language_info": {
   "codemirror_mode": {
    "name": "ipython",
    "version": 3
   },
   "file_extension": ".py",
   "mimetype": "text/x-python",
   "name": "python",
   "nbconvert_exporter": "python",
   "pygments_lexer": "ipython3",
   "version": "3.11.5"
  }
 },
 "nbformat": 4,
 "nbformat_minor": 2
}
